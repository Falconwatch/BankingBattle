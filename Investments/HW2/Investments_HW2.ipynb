{
  "nbformat": 4,
  "nbformat_minor": 0,
  "metadata": {
    "colab": {
      "provenance": [],
      "toc_visible": true,
      "authorship_tag": "ABX9TyMLTE6jXa2eCmZtCI2z8NoA",
      "include_colab_link": true
    },
    "kernelspec": {
      "name": "python3",
      "display_name": "Python 3"
    },
    "language_info": {
      "name": "python"
    }
  },
  "cells": [
    {
      "cell_type": "markdown",
      "metadata": {
        "id": "view-in-github",
        "colab_type": "text"
      },
      "source": [
        "<a href=\"https://colab.research.google.com/github/Falconwatch/BankingBattle/blob/main/Investments/HW2/Investments_HW2.ipynb\" target=\"_parent\"><img src=\"https://colab.research.google.com/assets/colab-badge.svg\" alt=\"Open In Colab\"/></a>"
      ]
    },
    {
      "cell_type": "markdown",
      "source": [
        "# Не понятные вопросы:\n",
        "0) В анализе голубых фишек нужно учитывать только те ордеры, которые закончились сделкой?\n",
        "\n",
        "1) Как считать daily volatility: по всем успешным buy или групировать buy по сделкам(TradeNo) и считать между сделками?\n",
        "\n",
        "2) Как считать bid-ask spread? здесь нужно учитывать не только состоявшиеся сделки?"
      ],
      "metadata": {
        "id": "CyCqgzUXDUkJ"
      }
    },
    {
      "cell_type": "code",
      "source": [
        "from os import listdir\n",
        "from os.path import isfile, join\n",
        "import tqdm\n",
        "import pandas as pd\n",
        "import polars as ps\n",
        "from zipfile import ZipFile\n",
        "import gc\n",
        "import numpy as np\n",
        "import matplotlib.pyplot as plt\n",
        "import seaborn as sns\n",
        "from datetime import datetime, time, timedelta\n",
        "from google.colab import drive"
      ],
      "metadata": {
        "id": "RDfOpcIQSCv5"
      },
      "execution_count": 101,
      "outputs": []
    },
    {
      "cell_type": "code",
      "source": [
        "drive.mount('/content/drive')\n",
        "path_to_folder_with_files = \"/content/drive/MyDrive/NES/investments/\""
      ],
      "metadata": {
        "colab": {
          "base_uri": "https://localhost:8080/"
        },
        "id": "xWMrucSfWKzQ",
        "outputId": "335cf3b3-af3a-4caf-dd00-f911cf115956"
      },
      "execution_count": 2,
      "outputs": [
        {
          "output_type": "stream",
          "name": "stdout",
          "text": [
            "Drive already mounted at /content/drive; to attempt to forcibly remount, call drive.mount(\"/content/drive\", force_remount=True).\n"
          ]
        }
      ]
    },
    {
      "cell_type": "markdown",
      "source": [
        "# Необходимые переменные для будущих частей"
      ],
      "metadata": {
        "id": "DzO9qALCVsQ2"
      }
    },
    {
      "cell_type": "code",
      "source": [
        "#количество файлов, для обработки (будет обработано н еболее чем)\n",
        "FILES_TO_PROCESS=5"
      ],
      "metadata": {
        "id": "ppqPfVsOVwf9"
      },
      "execution_count": 3,
      "outputs": []
    },
    {
      "cell_type": "code",
      "source": [
        "blue_chips = [\"CHMF\", \"GAZP\", \"GMKN\", \"IRAO\", \"LKOH\", \"MGNT\", \"MTSS\", \"NVTK\", \"PLZL\", \"ROSN\", \"RUAL\",\"SEBR\",\"SNGS\",\"TATN\", \"YNDX\"]\n",
        "blue_chips_data = {}"
      ],
      "metadata": {
        "id": "g_EigVzlVuwl"
      },
      "execution_count": 4,
      "outputs": []
    },
    {
      "cell_type": "markdown",
      "source": [
        "# Первая часть - изучение данных"
      ],
      "metadata": {
        "id": "oSmljJ2aSE0k"
      }
    },
    {
      "cell_type": "code",
      "source": [
        "onlyfiles = [f for f in listdir(path_to_folder_with_files) if isfile(join(path_to_folder_with_files, f))]\n",
        "datas = {f[10:-4]:{\"file\":f} for f in onlyfiles[:FILES_TO_PROCESS]}"
      ],
      "metadata": {
        "id": "XrwVdmkLsgDd"
      },
      "execution_count": 5,
      "outputs": []
    },
    {
      "cell_type": "markdown",
      "source": [
        "## Explore data\n",
        "To explore the data, in a table for each day for each field summarize relevant information,\n",
        "for example, type of the field, min value, max value, number of NA and missing values etc."
      ],
      "metadata": {
        "id": "LrPB-Mm4Sc6x"
      }
    },
    {
      "cell_type": "code",
      "source": [
        "def read_one_day(filename):\n",
        "  oneday = ps.read_csv(ZipFile(path_to_folder_with_files+filename).read(filename[:-3]+\"txt\"),\n",
        "                 null_values=[\"-\"])\n",
        "  gc.collect()\n",
        "  return oneday"
      ],
      "metadata": {
        "id": "j4HE8KDF0nR3"
      },
      "execution_count": 6,
      "outputs": []
    },
    {
      "cell_type": "code",
      "source": [
        "one_day_example = read_one_day(datas[\"231005\"][\"file\"])"
      ],
      "metadata": {
        "id": "gEp1S9lwScJq"
      },
      "execution_count": 7,
      "outputs": []
    },
    {
      "cell_type": "code",
      "source": [
        "one_day_example"
      ],
      "metadata": {
        "colab": {
          "base_uri": "https://localhost:8080/",
          "height": 438
        },
        "id": "MuNUgwBVVEtq",
        "outputId": "5c144f0c-71de-48f0-ebcf-94991bde1c65"
      },
      "execution_count": 60,
      "outputs": [
        {
          "output_type": "execute_result",
          "data": {
            "text/plain": [
              "shape: (17_611_993, 6)\n",
              "┌──────────────┬─────────┬──────────────┬────────────┬─────────┬─────────┐\n",
              "│ SECCODE      ┆ BUYSELL ┆ TIME         ┆ TRADENO    ┆ PRICE   ┆ VOLUME  │\n",
              "│ ---          ┆ ---     ┆ ---          ┆ ---        ┆ ---     ┆ ---     │\n",
              "│ str          ┆ str     ┆ i64          ┆ i64        ┆ f64     ┆ i64     │\n",
              "╞══════════════╪═════════╪══════════════╪════════════╪═════════╪═════════╡\n",
              "│ BISVP        ┆ B       ┆ 100000002676 ┆ null       ┆ 15.08   ┆ 500     │\n",
              "│ BISVP        ┆ S       ┆ 100000002676 ┆ null       ┆ 15.2    ┆ 1200    │\n",
              "│ FEES         ┆ B       ┆ 100000002768 ┆ 8560608534 ┆ 0.11842 ┆ 10000   │\n",
              "│ FEES         ┆ B       ┆ 100000002768 ┆ null       ┆ 0.12606 ┆ 1000000 │\n",
              "│ FEES         ┆ S       ┆ 100000002768 ┆ null       ┆ 0.1182  ┆ 50000   │\n",
              "│ …            ┆ …       ┆ …            ┆ …          ┆ …       ┆ …       │\n",
              "│ VGSBP        ┆ S       ┆ 235900000000 ┆ null       ┆ 13.635  ┆ 2000    │\n",
              "│ YRSBP        ┆ S       ┆ 235900000000 ┆ null       ┆ 370.5   ┆ 420     │\n",
              "│ HMSG         ┆ S       ┆ 235900000000 ┆ null       ┆ 248.0   ┆ 250     │\n",
              "│ TORSP        ┆ S       ┆ 235900000000 ┆ null       ┆ 0.654   ┆ 170000  │\n",
              "│ RU000A102PN1 ┆ B       ┆ 235900000000 ┆ null       ┆ 100.0   ┆ 30      │\n",
              "└──────────────┴─────────┴──────────────┴────────────┴─────────┴─────────┘"
            ],
            "text/html": [
              "<div><style>\n",
              ".dataframe > thead > tr,\n",
              ".dataframe > tbody > tr {\n",
              "  text-align: right;\n",
              "  white-space: pre-wrap;\n",
              "}\n",
              "</style>\n",
              "<small>shape: (17_611_993, 6)</small><table border=\"1\" class=\"dataframe\"><thead><tr><th>SECCODE</th><th>BUYSELL</th><th>TIME</th><th>TRADENO</th><th>PRICE</th><th>VOLUME</th></tr><tr><td>str</td><td>str</td><td>i64</td><td>i64</td><td>f64</td><td>i64</td></tr></thead><tbody><tr><td>&quot;BISVP&quot;</td><td>&quot;B&quot;</td><td>100000002676</td><td>null</td><td>15.08</td><td>500</td></tr><tr><td>&quot;BISVP&quot;</td><td>&quot;S&quot;</td><td>100000002676</td><td>null</td><td>15.2</td><td>1200</td></tr><tr><td>&quot;FEES&quot;</td><td>&quot;B&quot;</td><td>100000002768</td><td>8560608534</td><td>0.11842</td><td>10000</td></tr><tr><td>&quot;FEES&quot;</td><td>&quot;B&quot;</td><td>100000002768</td><td>null</td><td>0.12606</td><td>1000000</td></tr><tr><td>&quot;FEES&quot;</td><td>&quot;S&quot;</td><td>100000002768</td><td>null</td><td>0.1182</td><td>50000</td></tr><tr><td>&hellip;</td><td>&hellip;</td><td>&hellip;</td><td>&hellip;</td><td>&hellip;</td><td>&hellip;</td></tr><tr><td>&quot;VGSBP&quot;</td><td>&quot;S&quot;</td><td>235900000000</td><td>null</td><td>13.635</td><td>2000</td></tr><tr><td>&quot;YRSBP&quot;</td><td>&quot;S&quot;</td><td>235900000000</td><td>null</td><td>370.5</td><td>420</td></tr><tr><td>&quot;HMSG&quot;</td><td>&quot;S&quot;</td><td>235900000000</td><td>null</td><td>248.0</td><td>250</td></tr><tr><td>&quot;TORSP&quot;</td><td>&quot;S&quot;</td><td>235900000000</td><td>null</td><td>0.654</td><td>170000</td></tr><tr><td>&quot;RU000A102PN1&quot;</td><td>&quot;B&quot;</td><td>235900000000</td><td>null</td><td>100.0</td><td>30</td></tr></tbody></table></div>"
            ]
          },
          "metadata": {},
          "execution_count": 60
        }
      ]
    },
    {
      "cell_type": "markdown",
      "source": [
        "## Filtered obs\n",
        "In one consolidated table summarize information on filtered out observations for each\n",
        "type of errors (missing data, NAs, duplicate, bad data etc.) for each data field: how many\n",
        "observations were deleted due to these errors."
      ],
      "metadata": {
        "id": "x5QNxYAJdqgK"
      }
    },
    {
      "cell_type": "code",
      "source": [
        "def get_int_columns_stats(df, column):\n",
        "\n",
        "  if df[column].dtype.is_numeric():\n",
        "    column_stats = df.select(\n",
        "         ps.when(ps.col(column).is_nan()).then(1).otherwise(0).sum().alias(\"nans\"),\n",
        "         ps.when(ps.col(column).is_null()).then(1).otherwise(0).sum().alias(\"nulls\"),\n",
        "         ps.when(ps.col(column)<0).then(1).otherwise(0).sum().alias(\"bellow_zero\"),\n",
        "         ps.when(ps.col(column)>0).then(1).otherwise(0).sum().alias(\"above_zero\"),\n",
        "         ps.when(ps.col(column)==0).then(1).otherwise(0).sum().alias(\"equal_zero\"))\n",
        "  else:\n",
        "    column_stats = df.select(\n",
        "          ps.when(ps.col(column).is_null()).then(1).otherwise(0).sum().alias(\"nulls\"))\n",
        "  return column_stats.to_dicts()[0]\n",
        "\n",
        "def describe_bad_data(df, date):\n",
        "  price_stats = get_int_columns_stats(df, \"PRICE\")\n",
        "  volume_stats = get_int_columns_stats(df, \"VOLUME\")\n",
        "  time_stats = get_int_columns_stats(df, \"TIME\")\n",
        "  seccode_stats = get_int_columns_stats(df, \"SECCODE\")\n",
        "  buysell_stats = get_int_columns_stats(df, \"BUYSELL\")\n",
        "  tradeno_stats = get_int_columns_stats(df, \"TRADENO\")\n",
        "\n",
        "  if \"cleaning\" not in datas[date]:\n",
        "    datas[date][\"cleaning\"]={}\n",
        "  datas[date][\"cleaning\"][\"price\"] = price_stats\n",
        "  datas[date][\"cleaning\"][\"volume\"] = volume_stats\n",
        "  datas[date][\"cleaning\"][\"time\"] = time_stats\n",
        "  datas[date][\"cleaning\"][\"seccode\"] = seccode_stats\n",
        "  datas[date][\"cleaning\"][\"buysell\"] = buysell_stats\n",
        "  datas[date][\"cleaning\"][\"tradeno\"] = tradeno_stats\n",
        "\n",
        "\n",
        "\n",
        "#Excludes bad observations, for example, transactions with price or size of 0.\n",
        "def clean_zeros(df, date):\n",
        "  df_ok = df.filter((ps.col(\"PRICE\")>0) & (ps.col(\"VOLUME\")>0))\n",
        "  deleted_zeros = df.shape[0] - df_ok.shape[0]\n",
        "  if \"cleaning\" not in datas[date]:\n",
        "    datas[date][\"cleaning\"]={}\n",
        "  datas[date][\"cleaning\"][\"deleted_zeros\"] = deleted_zeros\n",
        "  return df_ok\n",
        "\n",
        "\n",
        "#Excludes observations out of main trading hours 9:50–18:50.\n",
        "def clear_time(df, date):\n",
        "  df_ok = df.filter((ps.col(\"TIME\")>=95000000000) & (ps.col(\"TIME\")<=185000000000))\n",
        "  out_of_time = df.shape[0] - df_ok.shape[0]\n",
        "  if \"cleaning\" not in datas[date]:\n",
        "    datas[date][\"cleaning\"]={}\n",
        "  datas[date][\"cleaning\"][\"out_of_time\"] = out_of_time\n",
        "  return df_ok\n",
        "\n",
        "\n",
        "# Deals with NAs in the data if any.\n",
        "def clear_nas(df, date,\n",
        "              columns_to_check = ['SECCODE', 'BUYSELL', 'TIME', 'PRICE', 'VOLUME']):\n",
        "  df_ok = df.drop_nulls(subset=columns_to_check)\n",
        "  #df_ok = df.drop_nulls()\n",
        "  dropped_nans = df.shape[0] - df_ok.shape[0]\n",
        "  if \"cleaning\" not in datas[date]:\n",
        "    datas[date][\"cleaning\"]={}\n",
        "  datas[date][\"cleaning\"][\"dropped_nans\"] = dropped_nans\n",
        "  return df_ok\n",
        "\n",
        "#If there are any duplicates, exclude them as well.\n",
        "def clean_duplicates(df, date):\n",
        "  df_ok = df.unique(subset=df.columns)\n",
        "  dropped_duplicates = df.shape[0] - df_ok.shape[0]\n",
        "  if \"cleaning\" not in datas[date]:\n",
        "    datas[date][\"cleaning\"]={}\n",
        "  datas[date][\"cleaning\"][\"dropped_duplicates\"] = dropped_duplicates\n",
        "  return df_ok"
      ],
      "metadata": {
        "id": "srgZakQydvsN"
      },
      "execution_count": 9,
      "outputs": []
    },
    {
      "cell_type": "code",
      "source": [
        "for date in tqdm.tqdm(datas.keys()):\n",
        "\n",
        "  oneday_df = read_one_day(datas[date][\"file\"])\n",
        "  #собираю статистику\n",
        "  describe_bad_data(oneday_df, date)\n",
        "\n",
        "  oneday_df = clean_zeros(oneday_df, date) # удаляю нулевые транзакции\n",
        "  oneday_df = clear_nas(oneday_df, date) # удаляю где есть пустоты\n",
        "  oneday_df = clear_time(oneday_df, date) # удаляю вне времени торговли\n",
        "  oneday_df = clean_duplicates(oneday_df, date) # удаляю дубликаты\n",
        "  blue_chips_data[date] = oneday_df.filter(ps.col(\"SECCODE\").is_in(blue_chips)) #сохраняю данные для второй части\n",
        "  del oneday_df\n",
        "  gc.collect()\n"
      ],
      "metadata": {
        "colab": {
          "base_uri": "https://localhost:8080/"
        },
        "id": "9yT2YIMgO0pJ",
        "outputId": "2d14b9af-aa8b-4bf7-d2fc-5273ddd27c28"
      },
      "execution_count": 10,
      "outputs": [
        {
          "output_type": "stream",
          "name": "stderr",
          "text": [
            "100%|██████████| 5/5 [02:40<00:00, 32.16s/it]\n"
          ]
        }
      ]
    },
    {
      "cell_type": "code",
      "source": [
        "all_stats = [(k, v[\"cleaning\"]) for k,v in datas.items()]\n",
        "for i in range(len(all_stats)):\n",
        "  all_stats[i][1][\"date\"] = all_stats[i][0]\n",
        "all_stats = [a[1] for a in all_stats]\n",
        "\n",
        "all_stats_pd = pd.json_normalize(all_stats)"
      ],
      "metadata": {
        "id": "Hb_u8PnxOo0q"
      },
      "execution_count": 11,
      "outputs": []
    },
    {
      "cell_type": "code",
      "source": [
        "all_stats_pd"
      ],
      "metadata": {
        "colab": {
          "base_uri": "https://localhost:8080/",
          "height": 253
        },
        "id": "kHAAHds3MZts",
        "outputId": "4679a1e2-1bd7-4c65-af2b-ac6896f72ced"
      },
      "execution_count": 12,
      "outputs": [
        {
          "output_type": "execute_result",
          "data": {
            "text/plain": [
              "   deleted_zeros  dropped_nans  out_of_time  dropped_duplicates    date  \\\n",
              "0            787             0        11642                 771  231005   \n",
              "1           6722             0        19868                1260  231013   \n",
              "2           1949             0        17744                2650  231020   \n",
              "3           3557             0        18507                1381  231019   \n",
              "4           5686             0        12854                1344  231027   \n",
              "\n",
              "   price.nans  price.nulls  price.bellow_zero  price.above_zero  \\\n",
              "0           0          787                  0          17611206   \n",
              "1           0         6722                  0          17705095   \n",
              "2           0         1949                  0          18128944   \n",
              "3           0         3557                  0          18149038   \n",
              "4           0         5686                  0          24245841   \n",
              "\n",
              "   price.equal_zero  ...  time.bellow_zero  time.above_zero  time.equal_zero  \\\n",
              "0                 0  ...                 0         17611993                0   \n",
              "1                 0  ...                 0         17711817                0   \n",
              "2                 0  ...                 0         18130893                0   \n",
              "3                 0  ...                 0         18152595                0   \n",
              "4                 0  ...                 0         24251527                0   \n",
              "\n",
              "   seccode.nulls  buysell.nulls  tradeno.nans  tradeno.nulls  \\\n",
              "0              0              0             0       12234044   \n",
              "1              0              0             0       11883185   \n",
              "2              0              0             0       11776417   \n",
              "3              0              0             0       11768488   \n",
              "4              0              0             0       17511908   \n",
              "\n",
              "   tradeno.bellow_zero  tradeno.above_zero  tradeno.equal_zero  \n",
              "0                    0             5377949                   0  \n",
              "1                    0             5828632                   0  \n",
              "2                    0             6354476                   0  \n",
              "3                    0             6384107                   0  \n",
              "4                    0             6739619                   0  \n",
              "\n",
              "[5 rows x 27 columns]"
            ],
            "text/html": [
              "\n",
              "  <div id=\"df-6c92748a-b81d-4797-a980-2d12def1d8e9\" class=\"colab-df-container\">\n",
              "    <div>\n",
              "<style scoped>\n",
              "    .dataframe tbody tr th:only-of-type {\n",
              "        vertical-align: middle;\n",
              "    }\n",
              "\n",
              "    .dataframe tbody tr th {\n",
              "        vertical-align: top;\n",
              "    }\n",
              "\n",
              "    .dataframe thead th {\n",
              "        text-align: right;\n",
              "    }\n",
              "</style>\n",
              "<table border=\"1\" class=\"dataframe\">\n",
              "  <thead>\n",
              "    <tr style=\"text-align: right;\">\n",
              "      <th></th>\n",
              "      <th>deleted_zeros</th>\n",
              "      <th>dropped_nans</th>\n",
              "      <th>out_of_time</th>\n",
              "      <th>dropped_duplicates</th>\n",
              "      <th>date</th>\n",
              "      <th>price.nans</th>\n",
              "      <th>price.nulls</th>\n",
              "      <th>price.bellow_zero</th>\n",
              "      <th>price.above_zero</th>\n",
              "      <th>price.equal_zero</th>\n",
              "      <th>...</th>\n",
              "      <th>time.bellow_zero</th>\n",
              "      <th>time.above_zero</th>\n",
              "      <th>time.equal_zero</th>\n",
              "      <th>seccode.nulls</th>\n",
              "      <th>buysell.nulls</th>\n",
              "      <th>tradeno.nans</th>\n",
              "      <th>tradeno.nulls</th>\n",
              "      <th>tradeno.bellow_zero</th>\n",
              "      <th>tradeno.above_zero</th>\n",
              "      <th>tradeno.equal_zero</th>\n",
              "    </tr>\n",
              "  </thead>\n",
              "  <tbody>\n",
              "    <tr>\n",
              "      <th>0</th>\n",
              "      <td>787</td>\n",
              "      <td>0</td>\n",
              "      <td>11642</td>\n",
              "      <td>771</td>\n",
              "      <td>231005</td>\n",
              "      <td>0</td>\n",
              "      <td>787</td>\n",
              "      <td>0</td>\n",
              "      <td>17611206</td>\n",
              "      <td>0</td>\n",
              "      <td>...</td>\n",
              "      <td>0</td>\n",
              "      <td>17611993</td>\n",
              "      <td>0</td>\n",
              "      <td>0</td>\n",
              "      <td>0</td>\n",
              "      <td>0</td>\n",
              "      <td>12234044</td>\n",
              "      <td>0</td>\n",
              "      <td>5377949</td>\n",
              "      <td>0</td>\n",
              "    </tr>\n",
              "    <tr>\n",
              "      <th>1</th>\n",
              "      <td>6722</td>\n",
              "      <td>0</td>\n",
              "      <td>19868</td>\n",
              "      <td>1260</td>\n",
              "      <td>231013</td>\n",
              "      <td>0</td>\n",
              "      <td>6722</td>\n",
              "      <td>0</td>\n",
              "      <td>17705095</td>\n",
              "      <td>0</td>\n",
              "      <td>...</td>\n",
              "      <td>0</td>\n",
              "      <td>17711817</td>\n",
              "      <td>0</td>\n",
              "      <td>0</td>\n",
              "      <td>0</td>\n",
              "      <td>0</td>\n",
              "      <td>11883185</td>\n",
              "      <td>0</td>\n",
              "      <td>5828632</td>\n",
              "      <td>0</td>\n",
              "    </tr>\n",
              "    <tr>\n",
              "      <th>2</th>\n",
              "      <td>1949</td>\n",
              "      <td>0</td>\n",
              "      <td>17744</td>\n",
              "      <td>2650</td>\n",
              "      <td>231020</td>\n",
              "      <td>0</td>\n",
              "      <td>1949</td>\n",
              "      <td>0</td>\n",
              "      <td>18128944</td>\n",
              "      <td>0</td>\n",
              "      <td>...</td>\n",
              "      <td>0</td>\n",
              "      <td>18130893</td>\n",
              "      <td>0</td>\n",
              "      <td>0</td>\n",
              "      <td>0</td>\n",
              "      <td>0</td>\n",
              "      <td>11776417</td>\n",
              "      <td>0</td>\n",
              "      <td>6354476</td>\n",
              "      <td>0</td>\n",
              "    </tr>\n",
              "    <tr>\n",
              "      <th>3</th>\n",
              "      <td>3557</td>\n",
              "      <td>0</td>\n",
              "      <td>18507</td>\n",
              "      <td>1381</td>\n",
              "      <td>231019</td>\n",
              "      <td>0</td>\n",
              "      <td>3557</td>\n",
              "      <td>0</td>\n",
              "      <td>18149038</td>\n",
              "      <td>0</td>\n",
              "      <td>...</td>\n",
              "      <td>0</td>\n",
              "      <td>18152595</td>\n",
              "      <td>0</td>\n",
              "      <td>0</td>\n",
              "      <td>0</td>\n",
              "      <td>0</td>\n",
              "      <td>11768488</td>\n",
              "      <td>0</td>\n",
              "      <td>6384107</td>\n",
              "      <td>0</td>\n",
              "    </tr>\n",
              "    <tr>\n",
              "      <th>4</th>\n",
              "      <td>5686</td>\n",
              "      <td>0</td>\n",
              "      <td>12854</td>\n",
              "      <td>1344</td>\n",
              "      <td>231027</td>\n",
              "      <td>0</td>\n",
              "      <td>5686</td>\n",
              "      <td>0</td>\n",
              "      <td>24245841</td>\n",
              "      <td>0</td>\n",
              "      <td>...</td>\n",
              "      <td>0</td>\n",
              "      <td>24251527</td>\n",
              "      <td>0</td>\n",
              "      <td>0</td>\n",
              "      <td>0</td>\n",
              "      <td>0</td>\n",
              "      <td>17511908</td>\n",
              "      <td>0</td>\n",
              "      <td>6739619</td>\n",
              "      <td>0</td>\n",
              "    </tr>\n",
              "  </tbody>\n",
              "</table>\n",
              "<p>5 rows × 27 columns</p>\n",
              "</div>\n",
              "    <div class=\"colab-df-buttons\">\n",
              "\n",
              "  <div class=\"colab-df-container\">\n",
              "    <button class=\"colab-df-convert\" onclick=\"convertToInteractive('df-6c92748a-b81d-4797-a980-2d12def1d8e9')\"\n",
              "            title=\"Convert this dataframe to an interactive table.\"\n",
              "            style=\"display:none;\">\n",
              "\n",
              "  <svg xmlns=\"http://www.w3.org/2000/svg\" height=\"24px\" viewBox=\"0 -960 960 960\">\n",
              "    <path d=\"M120-120v-720h720v720H120Zm60-500h600v-160H180v160Zm220 220h160v-160H400v160Zm0 220h160v-160H400v160ZM180-400h160v-160H180v160Zm440 0h160v-160H620v160ZM180-180h160v-160H180v160Zm440 0h160v-160H620v160Z\"/>\n",
              "  </svg>\n",
              "    </button>\n",
              "\n",
              "  <style>\n",
              "    .colab-df-container {\n",
              "      display:flex;\n",
              "      gap: 12px;\n",
              "    }\n",
              "\n",
              "    .colab-df-convert {\n",
              "      background-color: #E8F0FE;\n",
              "      border: none;\n",
              "      border-radius: 50%;\n",
              "      cursor: pointer;\n",
              "      display: none;\n",
              "      fill: #1967D2;\n",
              "      height: 32px;\n",
              "      padding: 0 0 0 0;\n",
              "      width: 32px;\n",
              "    }\n",
              "\n",
              "    .colab-df-convert:hover {\n",
              "      background-color: #E2EBFA;\n",
              "      box-shadow: 0px 1px 2px rgba(60, 64, 67, 0.3), 0px 1px 3px 1px rgba(60, 64, 67, 0.15);\n",
              "      fill: #174EA6;\n",
              "    }\n",
              "\n",
              "    .colab-df-buttons div {\n",
              "      margin-bottom: 4px;\n",
              "    }\n",
              "\n",
              "    [theme=dark] .colab-df-convert {\n",
              "      background-color: #3B4455;\n",
              "      fill: #D2E3FC;\n",
              "    }\n",
              "\n",
              "    [theme=dark] .colab-df-convert:hover {\n",
              "      background-color: #434B5C;\n",
              "      box-shadow: 0px 1px 3px 1px rgba(0, 0, 0, 0.15);\n",
              "      filter: drop-shadow(0px 1px 2px rgba(0, 0, 0, 0.3));\n",
              "      fill: #FFFFFF;\n",
              "    }\n",
              "  </style>\n",
              "\n",
              "    <script>\n",
              "      const buttonEl =\n",
              "        document.querySelector('#df-6c92748a-b81d-4797-a980-2d12def1d8e9 button.colab-df-convert');\n",
              "      buttonEl.style.display =\n",
              "        google.colab.kernel.accessAllowed ? 'block' : 'none';\n",
              "\n",
              "      async function convertToInteractive(key) {\n",
              "        const element = document.querySelector('#df-6c92748a-b81d-4797-a980-2d12def1d8e9');\n",
              "        const dataTable =\n",
              "          await google.colab.kernel.invokeFunction('convertToInteractive',\n",
              "                                                    [key], {});\n",
              "        if (!dataTable) return;\n",
              "\n",
              "        const docLinkHtml = 'Like what you see? Visit the ' +\n",
              "          '<a target=\"_blank\" href=https://colab.research.google.com/notebooks/data_table.ipynb>data table notebook</a>'\n",
              "          + ' to learn more about interactive tables.';\n",
              "        element.innerHTML = '';\n",
              "        dataTable['output_type'] = 'display_data';\n",
              "        await google.colab.output.renderOutput(dataTable, element);\n",
              "        const docLink = document.createElement('div');\n",
              "        docLink.innerHTML = docLinkHtml;\n",
              "        element.appendChild(docLink);\n",
              "      }\n",
              "    </script>\n",
              "  </div>\n",
              "\n",
              "\n",
              "<div id=\"df-ee4683c5-353e-4336-a108-a5181e6c692d\">\n",
              "  <button class=\"colab-df-quickchart\" onclick=\"quickchart('df-ee4683c5-353e-4336-a108-a5181e6c692d')\"\n",
              "            title=\"Suggest charts\"\n",
              "            style=\"display:none;\">\n",
              "\n",
              "<svg xmlns=\"http://www.w3.org/2000/svg\" height=\"24px\"viewBox=\"0 0 24 24\"\n",
              "     width=\"24px\">\n",
              "    <g>\n",
              "        <path d=\"M19 3H5c-1.1 0-2 .9-2 2v14c0 1.1.9 2 2 2h14c1.1 0 2-.9 2-2V5c0-1.1-.9-2-2-2zM9 17H7v-7h2v7zm4 0h-2V7h2v10zm4 0h-2v-4h2v4z\"/>\n",
              "    </g>\n",
              "</svg>\n",
              "  </button>\n",
              "\n",
              "<style>\n",
              "  .colab-df-quickchart {\n",
              "      --bg-color: #E8F0FE;\n",
              "      --fill-color: #1967D2;\n",
              "      --hover-bg-color: #E2EBFA;\n",
              "      --hover-fill-color: #174EA6;\n",
              "      --disabled-fill-color: #AAA;\n",
              "      --disabled-bg-color: #DDD;\n",
              "  }\n",
              "\n",
              "  [theme=dark] .colab-df-quickchart {\n",
              "      --bg-color: #3B4455;\n",
              "      --fill-color: #D2E3FC;\n",
              "      --hover-bg-color: #434B5C;\n",
              "      --hover-fill-color: #FFFFFF;\n",
              "      --disabled-bg-color: #3B4455;\n",
              "      --disabled-fill-color: #666;\n",
              "  }\n",
              "\n",
              "  .colab-df-quickchart {\n",
              "    background-color: var(--bg-color);\n",
              "    border: none;\n",
              "    border-radius: 50%;\n",
              "    cursor: pointer;\n",
              "    display: none;\n",
              "    fill: var(--fill-color);\n",
              "    height: 32px;\n",
              "    padding: 0;\n",
              "    width: 32px;\n",
              "  }\n",
              "\n",
              "  .colab-df-quickchart:hover {\n",
              "    background-color: var(--hover-bg-color);\n",
              "    box-shadow: 0 1px 2px rgba(60, 64, 67, 0.3), 0 1px 3px 1px rgba(60, 64, 67, 0.15);\n",
              "    fill: var(--button-hover-fill-color);\n",
              "  }\n",
              "\n",
              "  .colab-df-quickchart-complete:disabled,\n",
              "  .colab-df-quickchart-complete:disabled:hover {\n",
              "    background-color: var(--disabled-bg-color);\n",
              "    fill: var(--disabled-fill-color);\n",
              "    box-shadow: none;\n",
              "  }\n",
              "\n",
              "  .colab-df-spinner {\n",
              "    border: 2px solid var(--fill-color);\n",
              "    border-color: transparent;\n",
              "    border-bottom-color: var(--fill-color);\n",
              "    animation:\n",
              "      spin 1s steps(1) infinite;\n",
              "  }\n",
              "\n",
              "  @keyframes spin {\n",
              "    0% {\n",
              "      border-color: transparent;\n",
              "      border-bottom-color: var(--fill-color);\n",
              "      border-left-color: var(--fill-color);\n",
              "    }\n",
              "    20% {\n",
              "      border-color: transparent;\n",
              "      border-left-color: var(--fill-color);\n",
              "      border-top-color: var(--fill-color);\n",
              "    }\n",
              "    30% {\n",
              "      border-color: transparent;\n",
              "      border-left-color: var(--fill-color);\n",
              "      border-top-color: var(--fill-color);\n",
              "      border-right-color: var(--fill-color);\n",
              "    }\n",
              "    40% {\n",
              "      border-color: transparent;\n",
              "      border-right-color: var(--fill-color);\n",
              "      border-top-color: var(--fill-color);\n",
              "    }\n",
              "    60% {\n",
              "      border-color: transparent;\n",
              "      border-right-color: var(--fill-color);\n",
              "    }\n",
              "    80% {\n",
              "      border-color: transparent;\n",
              "      border-right-color: var(--fill-color);\n",
              "      border-bottom-color: var(--fill-color);\n",
              "    }\n",
              "    90% {\n",
              "      border-color: transparent;\n",
              "      border-bottom-color: var(--fill-color);\n",
              "    }\n",
              "  }\n",
              "</style>\n",
              "\n",
              "  <script>\n",
              "    async function quickchart(key) {\n",
              "      const quickchartButtonEl =\n",
              "        document.querySelector('#' + key + ' button');\n",
              "      quickchartButtonEl.disabled = true;  // To prevent multiple clicks.\n",
              "      quickchartButtonEl.classList.add('colab-df-spinner');\n",
              "      try {\n",
              "        const charts = await google.colab.kernel.invokeFunction(\n",
              "            'suggestCharts', [key], {});\n",
              "      } catch (error) {\n",
              "        console.error('Error during call to suggestCharts:', error);\n",
              "      }\n",
              "      quickchartButtonEl.classList.remove('colab-df-spinner');\n",
              "      quickchartButtonEl.classList.add('colab-df-quickchart-complete');\n",
              "    }\n",
              "    (() => {\n",
              "      let quickchartButtonEl =\n",
              "        document.querySelector('#df-ee4683c5-353e-4336-a108-a5181e6c692d button');\n",
              "      quickchartButtonEl.style.display =\n",
              "        google.colab.kernel.accessAllowed ? 'block' : 'none';\n",
              "    })();\n",
              "  </script>\n",
              "</div>\n",
              "    </div>\n",
              "  </div>\n"
            ],
            "application/vnd.google.colaboratory.intrinsic+json": {
              "type": "dataframe",
              "variable_name": "all_stats_pd"
            }
          },
          "metadata": {},
          "execution_count": 12
        }
      ]
    },
    {
      "cell_type": "markdown",
      "source": [
        "# Analysis of blue-chip stocks\n"
      ],
      "metadata": {
        "id": "0gsWFw4EUUTS"
      }
    },
    {
      "cell_type": "code",
      "source": [
        "for k in blue_chips_data.keys():\n",
        "  blue_chips_data[k] = blue_chips_data[k].with_columns(ps.lit(k).alias(\"date\"))\n",
        "all_blue_chips_data = ps.concat(blue_chips_data.values())"
      ],
      "metadata": {
        "id": "3bfznXl6Xvah"
      },
      "execution_count": 13,
      "outputs": []
    },
    {
      "cell_type": "code",
      "source": [
        "all_blue_chips_data\\\n",
        "  .filter((ps.col(\"SECCODE\")==\"NVTK\") & (ps.col(\"date\")==\"231013\"))\\\n",
        "  .filter(ps.col(\"TRADENO\").is_not_null())\\\n",
        ".sort(\"TIME\").group_by(\"BUYSELL\").agg(ps.col(\"VOLUME\").sum())"
      ],
      "metadata": {
        "colab": {
          "base_uri": "https://localhost:8080/",
          "height": 159
        },
        "id": "_NzUIPI_XKx-",
        "outputId": "5b1133c7-2fcb-4dca-8e66-09151fcd9110"
      },
      "execution_count": 14,
      "outputs": [
        {
          "output_type": "execute_result",
          "data": {
            "text/plain": [
              "shape: (2, 2)\n",
              "┌─────────┬────────┐\n",
              "│ BUYSELL ┆ VOLUME │\n",
              "│ ---     ┆ ---    │\n",
              "│ str     ┆ i64    │\n",
              "╞═════════╪════════╡\n",
              "│ B       ┆ 374268 │\n",
              "│ S       ┆ 374268 │\n",
              "└─────────┴────────┘"
            ],
            "text/html": [
              "<div><style>\n",
              ".dataframe > thead > tr,\n",
              ".dataframe > tbody > tr {\n",
              "  text-align: right;\n",
              "  white-space: pre-wrap;\n",
              "}\n",
              "</style>\n",
              "<small>shape: (2, 2)</small><table border=\"1\" class=\"dataframe\"><thead><tr><th>BUYSELL</th><th>VOLUME</th></tr><tr><td>str</td><td>i64</td></tr></thead><tbody><tr><td>&quot;B&quot;</td><td>374268</td></tr><tr><td>&quot;S&quot;</td><td>374268</td></tr></tbody></table></div>"
            ]
          },
          "metadata": {},
          "execution_count": 14
        }
      ]
    },
    {
      "cell_type": "code",
      "source": [
        "def find_daily_volatility(group_series):\n",
        "  group_df = ps.DataFrame(group_series, schema=[\"TIME\", \"PRICE\"])\n",
        "\n",
        "  agg = group_df\\\n",
        "    .sort([\"TIME\"])\\\n",
        "    .with_columns(\n",
        "        (ps.col(\"PRICE\")/ps.col(\"PRICE\").shift()).log().pow(2).alias(\"p_diff_log_sq\")\n",
        "        )\\\n",
        "    .select(\n",
        "        ps.col(\"p_diff_log_sq\").sum().pow(0.5).alias(\"daily_volatility\"),\n",
        "        )\n",
        "  return agg[\"daily_volatility\"][0]\n",
        "\n",
        "def find_quotes_changes(group_series):\n",
        "  group_df = ps.DataFrame(group_series, schema=[\"TIME\", \"PRICE\"])\n",
        "\n",
        "  agg = group_df\\\n",
        "    .sort([\"TIME\"])\\\n",
        "    .with_columns(\n",
        "        (ps.col(\"PRICE\")/ps.col(\"PRICE\").shift()).alias(\"p_diff\")\n",
        "        )\\\n",
        "    .select(\n",
        "        ps.when(ps.col(\"p_diff\")==1).then(0).otherwise(1).sum().alias(\"quotes_changes\")\n",
        "        )\n",
        "  return agg[\"quotes_changes\"][0]\n",
        "\n",
        "def calc_daily_stats(df):\n",
        "  daily_stats = df.group_by([\"SECCODE\", \"date\"])\\\n",
        "  .agg(\n",
        "    (ps.col(\"VOLUME\")*ps.col(\"PRICE\")).sum().alias(\"daily_total_rubble_volume\"),\n",
        "    (ps.col(\"VOLUME\")*ps.col(\"PRICE\")).mean().alias(\"daily_avg_rubble_volume\"),\n",
        "    (ps.col(\"VOLUME\")*ps.col(\"PRICE\")).median().alias(\"daily_median_rubble_volume\"),\n",
        "\n",
        "    ps.col(\"VOLUME\").sum().alias(\"daily_total_volume\"),\n",
        "    ps.col(\"VOLUME\").mean().alias(\"daily_avg_volume\"),\n",
        "    ps.col(\"VOLUME\").median().alias(\"daily_median_volume\"),\n",
        "\n",
        "    ps.col(\"PRICE\").mean().alias(\"daily_avg_price\"),\n",
        "    ps.col(\"TRADENO\").count().alias(\"daily_transactions\"),\n",
        "\n",
        "    ps.map_groups(\n",
        "        exprs=[ \"TIME\", \"PRICE\"],\n",
        "        function=find_daily_volatility).alias(\"daily_volatility\"),\n",
        "    ps.map_groups(\n",
        "        exprs=[ \"TIME\", \"PRICE\"],\n",
        "        function=find_quotes_changes).alias(\"daily_quotes_changes\"),\n",
        "  )\\\n",
        "  .with_columns((ps.col(\"daily_total_rubble_volume\")/ps.col(\"daily_total_volume\")).alias(\"daily_avg_weighted_price\"))\\\n",
        "  .sort([\"SECCODE\", \"date\"])\n",
        "  return daily_stats\n",
        "\n",
        "daily_stats_BUY = calc_daily_stats(all_blue_chips_data.filter(ps.col(\"BUYSELL\")==\"B\").filter(ps.col(\"TRADENO\").is_not_null()))\n",
        "daily_stats_SELL = calc_daily_stats(all_blue_chips_data.filter(ps.col(\"BUYSELL\")==\"S\").filter(ps.col(\"TRADENO\").is_not_null()))"
      ],
      "metadata": {
        "id": "n4GL02Q9X_o6"
      },
      "execution_count": 15,
      "outputs": []
    },
    {
      "cell_type": "markdown",
      "source": [
        "## 5. Answer the following questions:\n",
        "a) Which stock was the most/least volatile during the period under investigation?\n",
        "\n",
        "b) Which stock had the largest/lowest share volume? ruble volume?\n",
        "\n",
        "c) Which stock had the largest/lowest number of transactions?\n",
        "\n",
        "d) Which stock had the largest/lowest number of quotes changes?\n",
        "\n",
        "e) On which day of the week stocks had the largest/lowest volume in the sample?\n",
        "\n",
        "f) Which stock had the highest/lowest ruble bid-ask spread? percentage bid-ask\n",
        "spread?"
      ],
      "metadata": {
        "id": "CED3_eWSpOvD"
      }
    },
    {
      "cell_type": "markdown",
      "source": [
        "### a) Which stock was the most/least volatile during the period under investigation?"
      ],
      "metadata": {
        "id": "24UeSPmE4aAq"
      }
    },
    {
      "cell_type": "code",
      "source": [
        "#Which stock was the most/least volatile during the period under investigation?\n",
        "mean_daily_volatility = daily_stats_BUY.group_by(\"SECCODE\").agg(ps.col(\"daily_volatility\").mean().alias(\"mean_daily_volatility\"))\\\n",
        ".sort(\"mean_daily_volatility\")\n",
        "print(mean_daily_volatility[0])\n",
        "print(mean_daily_volatility[-1])"
      ],
      "metadata": {
        "colab": {
          "base_uri": "https://localhost:8080/"
        },
        "id": "Coku5i3-fFP2",
        "outputId": "f0e3f729-6ccc-4fba-f2a7-a0919c1b0c5d"
      },
      "execution_count": 16,
      "outputs": [
        {
          "output_type": "stream",
          "name": "stdout",
          "text": [
            "shape: (1, 2)\n",
            "┌─────────┬───────────────────────┐\n",
            "│ SECCODE ┆ mean_daily_volatility │\n",
            "│ ---     ┆ ---                   │\n",
            "│ str     ┆ f64                   │\n",
            "╞═════════╪═══════════════════════╡\n",
            "│ NVTK    ┆ 0.022744              │\n",
            "└─────────┴───────────────────────┘\n",
            "shape: (1, 2)\n",
            "┌─────────┬───────────────────────┐\n",
            "│ SECCODE ┆ mean_daily_volatility │\n",
            "│ ---     ┆ ---                   │\n",
            "│ str     ┆ f64                   │\n",
            "╞═════════╪═══════════════════════╡\n",
            "│ YNDX    ┆ 0.069711              │\n",
            "└─────────┴───────────────────────┘\n"
          ]
        }
      ]
    },
    {
      "cell_type": "markdown",
      "source": [
        "### b) Which stock had the largest/lowest share volume? ruble volume?"
      ],
      "metadata": {
        "id": "W74_ufM84fvE"
      }
    },
    {
      "cell_type": "code",
      "source": [
        "# Which stock had the largest/lowest share volume? ruble volume?\n",
        "volumes = daily_stats_SELL.group_by(\"SECCODE\")\\\n",
        "  .agg(\n",
        "        ps.col(\"daily_total_volume\").sum().alias(\"total_volume\"),\n",
        "        ps.col(\"daily_total_rubble_volume\").sum().alias(\"total_rubble_volume\")\n",
        "      )\n",
        "#share volume\n",
        "print(\"share volume\")\n",
        "print(volumes.sort(\"total_volume\").select(\"total_volume\")[0])\n",
        "print(volumes.sort(\"total_volume\").select(\"total_volume\")[-1])\n",
        "print(\"####################################################\")\n",
        "\n",
        "#ruble volume\n",
        "print(\"ruble volume\")\n",
        "print(volumes.sort(\"total_rubble_volume\").select(\"total_rubble_volume\")[0])\n",
        "print(volumes.sort(\"total_rubble_volume\").select(\"total_rubble_volume\")[-1])"
      ],
      "metadata": {
        "colab": {
          "base_uri": "https://localhost:8080/"
        },
        "id": "yNCMC65y2OrU",
        "outputId": "6edcd51d-9cc3-4373-9b3a-0d2e818e4813"
      },
      "execution_count": 17,
      "outputs": [
        {
          "output_type": "stream",
          "name": "stdout",
          "text": [
            "share volume\n",
            "shape: (1, 1)\n",
            "┌──────────────┐\n",
            "│ total_volume │\n",
            "│ ---          │\n",
            "│ i64          │\n",
            "╞══════════════╡\n",
            "│ 282699       │\n",
            "└──────────────┘\n",
            "shape: (1, 1)\n",
            "┌──────────────┐\n",
            "│ total_volume │\n",
            "│ ---          │\n",
            "│ i64          │\n",
            "╞══════════════╡\n",
            "│ 355577000    │\n",
            "└──────────────┘\n",
            "####################################################\n",
            "ruble volume\n",
            "shape: (1, 1)\n",
            "┌─────────────────────┐\n",
            "│ total_rubble_volume │\n",
            "│ ---                 │\n",
            "│ f64                 │\n",
            "╞═════════════════════╡\n",
            "│ 1.4718e9            │\n",
            "└─────────────────────┘\n",
            "shape: (1, 1)\n",
            "┌─────────────────────┐\n",
            "│ total_rubble_volume │\n",
            "│ ---                 │\n",
            "│ f64                 │\n",
            "╞═════════════════════╡\n",
            "│ 3.8162e10           │\n",
            "└─────────────────────┘\n"
          ]
        }
      ]
    },
    {
      "cell_type": "markdown",
      "source": [
        "### c) Which stock had the largest/lowest number of transactions?"
      ],
      "metadata": {
        "id": "rzkdQLV04jg7"
      }
    },
    {
      "cell_type": "code",
      "source": [
        "# c) Which stock had the largest/lowest number of transactions?\n",
        "transactions = daily_stats_SELL.group_by(\"SECCODE\")\\\n",
        "  .agg(\n",
        "        ps.col(\"daily_transactions\").sum().alias(\"total_transactions\"),\n",
        "      )\n",
        "print(transactions.sort(\"total_transactions\")[0])\n",
        "print(transactions.sort(\"total_transactions\")[-1])"
      ],
      "metadata": {
        "colab": {
          "base_uri": "https://localhost:8080/"
        },
        "id": "-VZ_EG9z0iNA",
        "outputId": "c2a7cf05-948a-4b1d-bdb8-b3535de13588"
      },
      "execution_count": 18,
      "outputs": [
        {
          "output_type": "stream",
          "name": "stdout",
          "text": [
            "shape: (1, 2)\n",
            "┌─────────┬────────────────────┐\n",
            "│ SECCODE ┆ total_transactions │\n",
            "│ ---     ┆ ---                │\n",
            "│ str     ┆ u32                │\n",
            "╞═════════╪════════════════════╡\n",
            "│ MTSS    ┆ 35357              │\n",
            "└─────────┴────────────────────┘\n",
            "shape: (1, 2)\n",
            "┌─────────┬────────────────────┐\n",
            "│ SECCODE ┆ total_transactions │\n",
            "│ ---     ┆ ---                │\n",
            "│ str     ┆ u32                │\n",
            "╞═════════╪════════════════════╡\n",
            "│ YNDX    ┆ 380689             │\n",
            "└─────────┴────────────────────┘\n"
          ]
        }
      ]
    },
    {
      "cell_type": "markdown",
      "source": [
        "### d) Which stock had the largest/lowest number of quotes changes?"
      ],
      "metadata": {
        "id": "zMb7h0A34le-"
      }
    },
    {
      "cell_type": "code",
      "source": [
        "# d) Which stock had the largest/lowest number of quotes changes?\n",
        "quotes_changes = daily_stats_SELL.group_by(\"SECCODE\")\\\n",
        "  .agg(\n",
        "        ps.col(\"daily_quotes_changes\").sum().alias(\"total_quotes_changes\"),\n",
        "      )\n",
        "print(quotes_changes.sort(\"total_quotes_changes\")[0])\n",
        "print(quotes_changes.sort(\"total_quotes_changes\")[-1])"
      ],
      "metadata": {
        "colab": {
          "base_uri": "https://localhost:8080/"
        },
        "id": "aExgEsWo4UYY",
        "outputId": "4638807d-3519-497f-a80f-6d53b345bc82"
      },
      "execution_count": 19,
      "outputs": [
        {
          "output_type": "stream",
          "name": "stdout",
          "text": [
            "shape: (1, 2)\n",
            "┌─────────┬──────────────────────┐\n",
            "│ SECCODE ┆ total_quotes_changes │\n",
            "│ ---     ┆ ---                  │\n",
            "│ str     ┆ i64                  │\n",
            "╞═════════╪══════════════════════╡\n",
            "│ MTSS    ┆ 15792                │\n",
            "└─────────┴──────────────────────┘\n",
            "shape: (1, 2)\n",
            "┌─────────┬──────────────────────┐\n",
            "│ SECCODE ┆ total_quotes_changes │\n",
            "│ ---     ┆ ---                  │\n",
            "│ str     ┆ i64                  │\n",
            "╞═════════╪══════════════════════╡\n",
            "│ YNDX    ┆ 189737               │\n",
            "└─────────┴──────────────────────┘\n"
          ]
        }
      ]
    },
    {
      "cell_type": "markdown",
      "source": [
        "### e) On which day of the week stocks had the largest/lowest volume in the sample?"
      ],
      "metadata": {
        "id": "EU_Al3BE7CH8"
      }
    },
    {
      "cell_type": "code",
      "source": [
        "# e) On which day of the week stocks had the largest/lowest volume in the sample?\n",
        "volume_on_date = daily_stats_SELL.group_by(\"date\")\\\n",
        "  .agg(ps.col(\"daily_total_rubble_volume\").sum().alias(\"date_total_rubble_volume\"),\n",
        "       ps.col(\"daily_total_volume\").sum().alias(\"date_total_volume\"))\n",
        "volume_on_date = volume_on_date.with_columns(ps.col(\"date\").str.to_date(format=\"%y%m%d\").dt.weekday().alias(\"weekday\"))\n",
        "\n",
        "volume_on_wd = volume_on_date.group_by(\"weekday\")\\\n",
        "  .agg(\n",
        "      ps.col(\"date_total_volume\").sum().alias(\"weekday_total_volume\"),\n",
        "      ps.col(\"date_total_rubble_volume\").sum().alias(\"weekday_total_rubble_volume\"),\n",
        "                                       )\n",
        "volume_on_wd\n",
        "\n",
        "\n",
        "#share volume\n",
        "print(\"weekday volume\")\n",
        "print(volume_on_wd.sort(\"weekday_total_volume\").select(\"weekday_total_volume\")[0])\n",
        "print(volume_on_wd.sort(\"weekday_total_volume\").select(\"weekday_total_volume\")[-1])\n",
        "print(\"####################################################\")\n",
        "\n",
        "#ruble volume\n",
        "print(\"weekday ruble volume\")\n",
        "print(volume_on_wd.sort(\"weekday_total_rubble_volume\").select(\"weekday_total_rubble_volume\")[0])\n",
        "print(volume_on_wd.sort(\"weekday_total_rubble_volume\").select(\"weekday_total_rubble_volume\")[-1])"
      ],
      "metadata": {
        "colab": {
          "base_uri": "https://localhost:8080/"
        },
        "id": "gPCwGW2Z60pJ",
        "outputId": "f5378946-8adc-4475-cd18-b71d0d3a1de7"
      },
      "execution_count": 20,
      "outputs": [
        {
          "output_type": "stream",
          "name": "stdout",
          "text": [
            "weekday volume\n",
            "shape: (1, 1)\n",
            "┌──────────────────────┐\n",
            "│ weekday_total_volume │\n",
            "│ ---                  │\n",
            "│ i64                  │\n",
            "╞══════════════════════╡\n",
            "│ 328527967            │\n",
            "└──────────────────────┘\n",
            "shape: (1, 1)\n",
            "┌──────────────────────┐\n",
            "│ weekday_total_volume │\n",
            "│ ---                  │\n",
            "│ i64                  │\n",
            "╞══════════════════════╡\n",
            "│ 445329212            │\n",
            "└──────────────────────┘\n",
            "####################################################\n",
            "weekday ruble volume\n",
            "shape: (1, 1)\n",
            "┌─────────────────────────────┐\n",
            "│ weekday_total_rubble_volume │\n",
            "│ ---                         │\n",
            "│ f64                         │\n",
            "╞═════════════════════════════╡\n",
            "│ 4.9757e10                   │\n",
            "└─────────────────────────────┘\n",
            "shape: (1, 1)\n",
            "┌─────────────────────────────┐\n",
            "│ weekday_total_rubble_volume │\n",
            "│ ---                         │\n",
            "│ f64                         │\n",
            "╞═════════════════════════════╡\n",
            "│ 9.1859e10                   │\n",
            "└─────────────────────────────┘\n"
          ]
        }
      ]
    },
    {
      "cell_type": "markdown",
      "source": [
        "### f) Which stock had the highest/lowest ruble bid-ask spread? percentage bid-ask spread?"
      ],
      "metadata": {
        "id": "nofqsru4-gDD"
      }
    },
    {
      "cell_type": "code",
      "source": [
        "# f) Which stock had the highest/lowest ruble bid-ask spread? percentage bid-ask spread?\n",
        "spreads = all_blue_chips_data\\\n",
        ".filter(ps.col(\"TRADENO\").is_null())\\\n",
        ".with_columns(ps.when(ps.col(\"BUYSELL\")==\"B\").then(ps.col(\"PRICE\")).otherwise(None).alias(\"buy_price\"),\n",
        "              ps.when(ps.col(\"BUYSELL\")==\"S\").then(ps.col(\"PRICE\")).otherwise(None).alias(\"sell_price\"))\\\n",
        ".group_by(\"SECCODE\", \"date\", \"TIME\")\\\n",
        ".agg(ps.col(\"buy_price\").max().alias(\"best_buy\"),\n",
        "     ps.col(\"sell_price\").min().alias(\"best_sell\"))\\\n",
        ".with_columns((ps.col(\"best_sell\") - ps.col(\"best_buy\")).alias(\"spread\"))\\\n",
        ".with_columns((100*ps.col(\"spread\")/ps.col(\"best_sell\")).alias(\"spread_perc\"))\\\n",
        ".with_columns((ps.col(\"spread\")>0).alias(\"spread_positive\"))\\\n",
        ".filter(ps.col(\"spread\").is_not_null())\n",
        "\n",
        "spreads.filter(ps.col(\"spread\")>0).group_by(\"SECCODE\").agg(ps.col(\"spread\").max())\\\n",
        ".sort(\"spread\", descending=True)[:3]"
      ],
      "metadata": {
        "id": "0ZCA3dEQ-iQ8",
        "colab": {
          "base_uri": "https://localhost:8080/",
          "height": 190
        },
        "outputId": "8fc052d6-6ad5-4f94-ac0b-fa3846780d97"
      },
      "execution_count": 21,
      "outputs": [
        {
          "output_type": "execute_result",
          "data": {
            "text/plain": [
              "shape: (3, 2)\n",
              "┌─────────┬────────┐\n",
              "│ SECCODE ┆ spread │\n",
              "│ ---     ┆ ---    │\n",
              "│ str     ┆ f64    │\n",
              "╞═════════╪════════╡\n",
              "│ YNDX    ┆ 22.4   │\n",
              "│ GMKN    ┆ 22.0   │\n",
              "│ PLZL    ┆ 21.5   │\n",
              "└─────────┴────────┘"
            ],
            "text/html": [
              "<div><style>\n",
              ".dataframe > thead > tr,\n",
              ".dataframe > tbody > tr {\n",
              "  text-align: right;\n",
              "  white-space: pre-wrap;\n",
              "}\n",
              "</style>\n",
              "<small>shape: (3, 2)</small><table border=\"1\" class=\"dataframe\"><thead><tr><th>SECCODE</th><th>spread</th></tr><tr><td>str</td><td>f64</td></tr></thead><tbody><tr><td>&quot;YNDX&quot;</td><td>22.4</td></tr><tr><td>&quot;GMKN&quot;</td><td>22.0</td></tr><tr><td>&quot;PLZL&quot;</td><td>21.5</td></tr></tbody></table></div>"
            ]
          },
          "metadata": {},
          "execution_count": 21
        }
      ]
    },
    {
      "cell_type": "code",
      "source": [
        "spreads.filter(ps.col(\"spread_perc\")>0).group_by(\"SECCODE\").agg(ps.col(\"spread_perc\").max())\\\n",
        ".sort(\"spread_perc\", descending=True)[:3]"
      ],
      "metadata": {
        "colab": {
          "base_uri": "https://localhost:8080/",
          "height": 190
        },
        "id": "3WDhWBh2RyDP",
        "outputId": "bade1b50-b64d-40fa-f4ae-7914d86d574f"
      },
      "execution_count": 22,
      "outputs": [
        {
          "output_type": "execute_result",
          "data": {
            "text/plain": [
              "shape: (3, 2)\n",
              "┌─────────┬─────────────┐\n",
              "│ SECCODE ┆ spread_perc │\n",
              "│ ---     ┆ ---         │\n",
              "│ str     ┆ f64         │\n",
              "╞═════════╪═════════════╡\n",
              "│ YNDX    ┆ 0.820934    │\n",
              "│ CHMF    ┆ 0.502959    │\n",
              "│ RUAL    ┆ 0.4914      │\n",
              "└─────────┴─────────────┘"
            ],
            "text/html": [
              "<div><style>\n",
              ".dataframe > thead > tr,\n",
              ".dataframe > tbody > tr {\n",
              "  text-align: right;\n",
              "  white-space: pre-wrap;\n",
              "}\n",
              "</style>\n",
              "<small>shape: (3, 2)</small><table border=\"1\" class=\"dataframe\"><thead><tr><th>SECCODE</th><th>spread_perc</th></tr><tr><td>str</td><td>f64</td></tr></thead><tbody><tr><td>&quot;YNDX&quot;</td><td>0.820934</td></tr><tr><td>&quot;CHMF&quot;</td><td>0.502959</td></tr><tr><td>&quot;RUAL&quot;</td><td>0.4914</td></tr></tbody></table></div>"
            ]
          },
          "metadata": {},
          "execution_count": 22
        }
      ]
    },
    {
      "cell_type": "markdown",
      "source": [
        "## 6) Examine empirically what is the relationship between the number of trades and thenumber of quotes changes? For example, plot the log of the number of trades against the log of the number of quotes changes calculated for each stock and each trading day."
      ],
      "metadata": {
        "id": "HRFPxGWdSY8B"
      }
    },
    {
      "cell_type": "code",
      "source": [
        "trades_count = all_blue_chips_data\\\n",
        ".filter(ps.col(\"BUYSELL\")==\"B\")\\\n",
        ".filter(ps.col(\"TRADENO\").is_not_null())\\\n",
        ".group_by(\"date\", \"SECCODE\")\\\n",
        ".agg(ps.col(\"TRADENO\").n_unique().log().alias(\"trades_count_log\"))\n",
        "\n",
        "daily_quotes_changes = daily_stats_BUY.select(\"SECCODE\", \"date\",\n",
        "                                              ps.col(\"daily_quotes_changes\").log().alias(\"daily_quotes_changes_log\"))\n",
        "changes_vs_trades = trades_count.join(daily_quotes_changes, on =[\"SECCODE\", \"date\"])\n",
        "\n",
        "sns.scatterplot(data = changes_vs_trades, x=\"trades_count_log\", y=\"daily_quotes_changes_log\")"
      ],
      "metadata": {
        "colab": {
          "base_uri": "https://localhost:8080/",
          "height": 468
        },
        "id": "1RRxUjR8RxUh",
        "outputId": "0f19ab45-642b-4fad-b05e-80f816292b79"
      },
      "execution_count": 23,
      "outputs": [
        {
          "output_type": "execute_result",
          "data": {
            "text/plain": [
              "<Axes: xlabel='trades_count_log', ylabel='daily_quotes_changes_log'>"
            ]
          },
          "metadata": {},
          "execution_count": 23
        },
        {
          "output_type": "display_data",
          "data": {
            "text/plain": [
              "<Figure size 640x480 with 1 Axes>"
            ],
            "image/png": "[encoded data removed]"
          },
          "metadata": {}
        }
      ]
    },
    {
      "cell_type": "markdown",
      "source": [
        "## 7) Trading volume often exhibits specific intraday patterns. Examine intraday patterns in volume by calculating the average ruble volume executed during each 30-min period between 9:50 and 18:50; see figure 10 in example. Stocks differ a lot by volume. To aggregate data across 15 stocks into one chart, you may plot, for example, the typical fraction of daily volume executed during each thirty-minute interval (and then averaged across all stocks). How would you suggest to treat the first and the last intervals given that they are shorter than the rest of intervals?"
      ],
      "metadata": {
        "id": "eDRrIFq0Vlp7"
      }
    },
    {
      "cell_type": "code",
      "source": [
        "def str_to_time(examp):\n",
        "  micro = int(examp[-6:])\n",
        "  ss = int(examp[-8:-6])\n",
        "  mm = int(examp[-10:-8])\n",
        "  hh = int(examp[:-10])\n",
        "  delta = timedelta(hours=hh, minutes=mm, seconds=ss, microseconds=micro)\n",
        "  return delta.total_seconds()\n"
      ],
      "metadata": {
        "id": "rIOcnpjmiAq9"
      },
      "execution_count": 34,
      "outputs": []
    },
    {
      "cell_type": "code",
      "source": [
        "str_to_time(\"101000000000\")//1800"
      ],
      "metadata": {
        "colab": {
          "base_uri": "https://localhost:8080/"
        },
        "id": "QpFcLQCuoXSZ",
        "outputId": "061037fc-09a0-4aa3-d0cf-6f06644036c1"
      },
      "execution_count": 68,
      "outputs": [
        {
          "output_type": "execute_result",
          "data": {
            "text/plain": [
              "20.0"
            ]
          },
          "metadata": {},
          "execution_count": 68
        }
      ]
    },
    {
      "cell_type": "code",
      "source": [
        "all_blue_chips_data = all_blue_chips_data.with_columns(ps.col(\"TIME\").map_elements(lambda x: str_to_time(str(x)),\n",
        "                                                             return_dtype=float).alias(\"TIME_secs\"))"
      ],
      "metadata": {
        "id": "KSMjF9mGdOJa"
      },
      "execution_count": 44,
      "outputs": []
    },
    {
      "cell_type": "code",
      "source": [
        "data_for_hh_analysis =\\\n",
        "all_blue_chips_data\\\n",
        ".with_columns((ps.col(\"TIME_secs\") // 1800).alias(\"hh\"))\\\n",
        ".filter(ps.col(\"TRADENO\").is_not_null())\\\n",
        ".filter(ps.col(\"BUYSELL\")==\"B\")\\\n",
        ".group_by(\"date\", \"hh\", \"SECCODE\")\\\n",
        ".agg(ps.col(\"VOLUME\").sum().alias(\"hh_volume\"))\\\n",
        ".sort(\"date\", \"hh\", \"SECCODE\")\n",
        "\n",
        "data_for_hh_analysis_daily =\\\n",
        "data_for_hh_analysis\\\n",
        ".group_by(\"date\",\"SECCODE\")\\\n",
        ".agg(ps.col(\"hh_volume\").sum().alias(\"hh_volume_daily\"))\n",
        "\n",
        "data_for_hh_analysis_predfinal = data_for_hh_analysis.join(data_for_hh_analysis_daily,\n",
        "                                                       on=[\"date\", \"SECCODE\"])\\\n",
        ".with_columns((ps.col(\"hh_volume\")/ps.col(\"hh_volume_daily\")).alias(\"hh_fraction\"))\n",
        "data_for_hh_analysis_predfinal.head()"
      ],
      "metadata": {
        "colab": {
          "base_uri": "https://localhost:8080/",
          "height": 252
        },
        "id": "0IHgbwF9Xh3h",
        "outputId": "4e07d048-f05f-442e-baba-5421453342ac"
      },
      "execution_count": 48,
      "outputs": [
        {
          "output_type": "execute_result",
          "data": {
            "text/plain": [
              "shape: (5, 6)\n",
              "┌────────┬──────┬─────────┬───────────┬─────────────────┬─────────────┐\n",
              "│ date   ┆ hh   ┆ SECCODE ┆ hh_volume ┆ hh_volume_daily ┆ hh_fraction │\n",
              "│ ---    ┆ ---  ┆ ---     ┆ ---       ┆ ---             ┆ ---         │\n",
              "│ str    ┆ f64  ┆ str     ┆ i64       ┆ i64             ┆ f64         │\n",
              "╞════════╪══════╪═════════╪═══════════╪═════════════════╪═════════════╡\n",
              "│ 231005 ┆ 20.0 ┆ CHMF    ┆ 44668     ┆ 473883          ┆ 0.09426     │\n",
              "│ 231005 ┆ 20.0 ┆ GAZP    ┆ 1457750   ┆ 13210340        ┆ 0.110349    │\n",
              "│ 231005 ┆ 20.0 ┆ GMKN    ┆ 4142      ┆ 43211           ┆ 0.095855    │\n",
              "│ 231005 ┆ 20.0 ┆ IRAO    ┆ 11461000  ┆ 56766300        ┆ 0.201898    │\n",
              "│ 231005 ┆ 20.0 ┆ LKOH    ┆ 120356    ┆ 621074          ┆ 0.193787    │\n",
              "└────────┴──────┴─────────┴───────────┴─────────────────┴─────────────┘"
            ],
            "text/html": [
              "<div><style>\n",
              ".dataframe > thead > tr,\n",
              ".dataframe > tbody > tr {\n",
              "  text-align: right;\n",
              "  white-space: pre-wrap;\n",
              "}\n",
              "</style>\n",
              "<small>shape: (5, 6)</small><table border=\"1\" class=\"dataframe\"><thead><tr><th>date</th><th>hh</th><th>SECCODE</th><th>hh_volume</th><th>hh_volume_daily</th><th>hh_fraction</th></tr><tr><td>str</td><td>f64</td><td>str</td><td>i64</td><td>i64</td><td>f64</td></tr></thead><tbody><tr><td>&quot;231005&quot;</td><td>20.0</td><td>&quot;CHMF&quot;</td><td>44668</td><td>473883</td><td>0.09426</td></tr><tr><td>&quot;231005&quot;</td><td>20.0</td><td>&quot;GAZP&quot;</td><td>1457750</td><td>13210340</td><td>0.110349</td></tr><tr><td>&quot;231005&quot;</td><td>20.0</td><td>&quot;GMKN&quot;</td><td>4142</td><td>43211</td><td>0.095855</td></tr><tr><td>&quot;231005&quot;</td><td>20.0</td><td>&quot;IRAO&quot;</td><td>11461000</td><td>56766300</td><td>0.201898</td></tr><tr><td>&quot;231005&quot;</td><td>20.0</td><td>&quot;LKOH&quot;</td><td>120356</td><td>621074</td><td>0.193787</td></tr></tbody></table></div>"
            ]
          },
          "metadata": {},
          "execution_count": 48
        }
      ]
    },
    {
      "cell_type": "code",
      "source": [
        "\n",
        "hh_fraction_for_plot = data_for_hh_analysis_predfinal.group_by(\"hh\")\\\n",
        ".agg(ps.col(\"hh_fraction\").mean().alias(\"fraction\"))\\\n",
        ".sort(\"hh\")"
      ],
      "metadata": {
        "id": "v_U8ROgLcWtx"
      },
      "execution_count": 99,
      "outputs": []
    },
    {
      "cell_type": "code",
      "source": [
        "\n",
        "def hh_to_str(hh):\n",
        "  hour = int(hh*1800/60/60)\n",
        "  if hh%1 == 0:\n",
        "    return f\"{hour}:00 - {hour}:29\"\n",
        "  else:\n",
        "    return f\"{hour}:30 - {hour}:59\"\n",
        "\n",
        "hh_fraction_for_plot = hh_fraction_for_plot.with_columns(ps.col(\"hh\")\\\n",
        "                                                         .map_elements(lambda x: hh_to_str(x)).alias(\"hh_str\"))\n",
        "ax = hh_fraction_for_plot.to_pandas().set_index(\"hh\").drop(\"hh_str\", axis=1).plot(figsize=[10,7])\n",
        "_ = ax.set_xticks(hh_fraction_for_plot[\"hh\"])\n",
        "_ = ax.set_xticklabels(hh_fraction_for_plot[\"hh_str\"], rotation=45)\n",
        "#ax.set_xticks(hh_fraction_for_plot[\"hh_str\"],)"
      ],
      "metadata": {
        "colab": {
          "base_uri": "https://localhost:8080/",
          "height": 735
        },
        "id": "0IkKROeYrLA1",
        "outputId": "6aa0a75b-3a29-467d-91e1-e0b21cc6fd7b"
      },
      "execution_count": 106,
      "outputs": [
        {
          "output_type": "stream",
          "name": "stderr",
          "text": [
            "<ipython-input-106-2823b7bde9f4>:8: MapWithoutReturnDtypeWarning: Calling `map_elements` without specifying `return_dtype` can lead to unpredictable results. Specify `return_dtype` to silence this warning.\n",
            "  hh_fraction_for_plot = hh_fraction_for_plot.with_columns(ps.col(\"hh\")\\\n"
          ]
        },
        {
          "output_type": "display_data",
          "data": {
            "text/plain": [
              "<Figure size 1000x700 with 1 Axes>"
            ],
            "image/png": "[encoded data removed]"
          },
          "metadata": {}
        }
      ]
    },
    {
      "cell_type": "code",
      "source": [],
      "metadata": {
        "id": "JYKL9pKCUK2x"
      },
      "execution_count": null,
      "outputs": []
    }
  ]
}