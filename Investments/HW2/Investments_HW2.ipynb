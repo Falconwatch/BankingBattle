{
  "nbformat": 4,
  "nbformat_minor": 0,
  "metadata": {
    "colab": {
      "provenance": [],
      "toc_visible": true,
      "authorship_tag": "ABX9TyPqgQpUuW6zCZbjlH/Thuq9",
      "include_colab_link": true
    },
    "kernelspec": {
      "name": "python3",
      "display_name": "Python 3"
    },
    "language_info": {
      "name": "python"
    }
  },
  "cells": [
    {
      "cell_type": "markdown",
      "metadata": {
        "id": "view-in-github",
        "colab_type": "text"
      },
      "source": [
        "<a href=\"https://colab.research.google.com/github/Falconwatch/BankingBattle/blob/main/Investments/HW2/Investments_HW2.ipynb\" target=\"_parent\"><img src=\"https://colab.research.google.com/assets/colab-badge.svg\" alt=\"Open In Colab\"/></a>"
      ]
    },
    {
      "cell_type": "code",
      "source": [
        "from os import listdir\n",
        "from os.path import isfile, join\n",
        "import tqdm\n",
        "import pandas as pd\n",
        "import polars as ps\n",
        "from zipfile import ZipFile\n",
        "import gc\n",
        "import numpy as np\n",
        "import matplotlib.pyplot as plt\n",
        "import seaborn as sns\n",
        "from datetime import datetime, time, timedelta\n",
        "from google.colab import drive"
      ],
      "metadata": {
        "id": "RDfOpcIQSCv5"
      },
      "execution_count": 1,
      "outputs": []
    },
    {
      "cell_type": "code",
      "source": [
        "drive.mount('/content/drive')\n",
        "path_to_folder_with_files = \"/content/drive/MyDrive/NES/investments/\""
      ],
      "metadata": {
        "colab": {
          "base_uri": "https://localhost:8080/"
        },
        "id": "xWMrucSfWKzQ",
        "outputId": "53973445-bd03-4307-aa8b-3942ace6cea8"
      },
      "execution_count": 2,
      "outputs": [
        {
          "output_type": "stream",
          "name": "stdout",
          "text": [
            "Mounted at /content/drive\n"
          ]
        }
      ]
    },
    {
      "cell_type": "markdown",
      "source": [
        "# Необходимые переменные для будущих частей"
      ],
      "metadata": {
        "id": "DzO9qALCVsQ2"
      }
    },
    {
      "cell_type": "code",
      "source": [
        "#количество файлов, для обработки (будет обработано не более чем)\n",
        "FILES_TO_PROCESS=100"
      ],
      "metadata": {
        "id": "ppqPfVsOVwf9"
      },
      "execution_count": 3,
      "outputs": []
    },
    {
      "cell_type": "code",
      "source": [
        "blue_chips = [\"CHMF\", \"GAZP\", \"GMKN\", \"IRAO\", \"LKOH\", \"MGNT\", \"MTSS\", \"NVTK\", \"PLZL\", \"ROSN\", \"RUAL\",\"SEBR\",\"SNGS\",\"TATN\", \"YNDX\"]\n",
        "blue_chips_data = {}"
      ],
      "metadata": {
        "id": "g_EigVzlVuwl"
      },
      "execution_count": 4,
      "outputs": []
    },
    {
      "cell_type": "markdown",
      "source": [
        "# Первая часть - изучение данных"
      ],
      "metadata": {
        "id": "oSmljJ2aSE0k"
      }
    },
    {
      "cell_type": "code",
      "source": [
        "onlyfiles = [f for f in listdir(path_to_folder_with_files) if isfile(join(path_to_folder_with_files, f))]\n",
        "datas = {f[10:-4]:{\"file\":f} for f in onlyfiles[:FILES_TO_PROCESS]}"
      ],
      "metadata": {
        "id": "XrwVdmkLsgDd"
      },
      "execution_count": 5,
      "outputs": []
    },
    {
      "cell_type": "markdown",
      "source": [
        "## Explore data\n",
        "To explore the data, in a table for each day for each field summarize relevant information,\n",
        "for example, type of the field, min value, max value, number of NA and missing values etc."
      ],
      "metadata": {
        "id": "LrPB-Mm4Sc6x"
      }
    },
    {
      "cell_type": "code",
      "source": [
        "def read_one_day(filename):\n",
        "  oneday = ps.read_csv(ZipFile(path_to_folder_with_files+filename).read(filename[:-3]+\"txt\"),\n",
        "                 null_values=[\"-\"])\n",
        "  gc.collect()\n",
        "  return oneday"
      ],
      "metadata": {
        "id": "j4HE8KDF0nR3"
      },
      "execution_count": 6,
      "outputs": []
    },
    {
      "cell_type": "code",
      "source": [
        "# one_day_example = read_one_day(datas[\"231005\"][\"file\"])\n",
        "# one_day_example"
      ],
      "metadata": {
        "id": "gEp1S9lwScJq"
      },
      "execution_count": 7,
      "outputs": []
    },
    {
      "cell_type": "markdown",
      "source": [
        "## Filtered obs\n",
        "In one consolidated table summarize information on filtered out observations for each\n",
        "type of errors (missing data, NAs, duplicate, bad data etc.) for each data field: how many\n",
        "observations were deleted due to these errors."
      ],
      "metadata": {
        "id": "x5QNxYAJdqgK"
      }
    },
    {
      "cell_type": "code",
      "source": [
        "def get_int_columns_stats(df, column):\n",
        "\n",
        "  if df[column].dtype.is_numeric():\n",
        "    column_stats = df.select(\n",
        "         ps.when(ps.col(column).is_nan()).then(1).otherwise(0).sum().alias(\"nans\"),\n",
        "         ps.when(ps.col(column).is_null()).then(1).otherwise(0).sum().alias(\"nulls\"),\n",
        "         ps.when(ps.col(column)<0).then(1).otherwise(0).sum().alias(\"bellow_zero\"),\n",
        "         ps.when(ps.col(column)>0).then(1).otherwise(0).sum().alias(\"above_zero\"),\n",
        "         ps.when(ps.col(column)==0).then(1).otherwise(0).sum().alias(\"equal_zero\"))\n",
        "  else:\n",
        "    column_stats = df.select(\n",
        "          ps.when(ps.col(column).is_null()).then(1).otherwise(0).sum().alias(\"nulls\"))\n",
        "  return column_stats.to_dicts()[0]\n",
        "\n",
        "def describe_bad_data(df, date):\n",
        "  price_stats = get_int_columns_stats(df, \"PRICE\")\n",
        "  volume_stats = get_int_columns_stats(df, \"VOLUME\")\n",
        "  time_stats = get_int_columns_stats(df, \"TIME\")\n",
        "  seccode_stats = get_int_columns_stats(df, \"SECCODE\")\n",
        "  buysell_stats = get_int_columns_stats(df, \"BUYSELL\")\n",
        "  tradeno_stats = get_int_columns_stats(df, \"TRADENO\")\n",
        "\n",
        "  if \"cleaning\" not in datas[date]:\n",
        "    datas[date][\"cleaning\"]={}\n",
        "  datas[date][\"cleaning\"][\"price\"] = price_stats\n",
        "  datas[date][\"cleaning\"][\"volume\"] = volume_stats\n",
        "  datas[date][\"cleaning\"][\"time\"] = time_stats\n",
        "  datas[date][\"cleaning\"][\"seccode\"] = seccode_stats\n",
        "  datas[date][\"cleaning\"][\"buysell\"] = buysell_stats\n",
        "  datas[date][\"cleaning\"][\"tradeno\"] = tradeno_stats\n",
        "\n",
        "\n",
        "\n",
        "#Excludes bad observations, for example, transactions with price or size of 0.\n",
        "def clean_zeros(df, date):\n",
        "  df_ok = df.filter((ps.col(\"PRICE\")>0) & (ps.col(\"VOLUME\")>0))\n",
        "  deleted_zeros = df.shape[0] - df_ok.shape[0]\n",
        "  if \"cleaning\" not in datas[date]:\n",
        "    datas[date][\"cleaning\"]={}\n",
        "  datas[date][\"cleaning\"][\"deleted_zeros\"] = deleted_zeros\n",
        "  return df_ok\n",
        "\n",
        "\n",
        "#Excludes observations out of main trading hours 9:50–18:50.\n",
        "def clear_time(df, date):\n",
        "  df_ok = df.filter((ps.col(\"TIME\")>=95000000000) & (ps.col(\"TIME\")<=185000000000))\n",
        "  out_of_time = df.shape[0] - df_ok.shape[0]\n",
        "  if \"cleaning\" not in datas[date]:\n",
        "    datas[date][\"cleaning\"]={}\n",
        "  datas[date][\"cleaning\"][\"out_of_time\"] = out_of_time\n",
        "  return df_ok\n",
        "\n",
        "\n",
        "# Deals with NAs in the data if any.\n",
        "def clear_nas(df, date,\n",
        "              columns_to_check = ['SECCODE', 'BUYSELL', 'TIME', 'PRICE', 'VOLUME']):\n",
        "  df_ok = df.drop_nulls(subset=columns_to_check)\n",
        "  #df_ok = df.drop_nulls()\n",
        "  dropped_nans = df.shape[0] - df_ok.shape[0]\n",
        "  if \"cleaning\" not in datas[date]:\n",
        "    datas[date][\"cleaning\"]={}\n",
        "  datas[date][\"cleaning\"][\"dropped_nans\"] = dropped_nans\n",
        "  return df_ok\n",
        "\n",
        "#If there are any duplicates, exclude them as well.\n",
        "def clean_duplicates(df, date):\n",
        "  df_ok = df.unique(subset=df.columns)\n",
        "  dropped_duplicates = df.shape[0] - df_ok.shape[0]\n",
        "  if \"cleaning\" not in datas[date]:\n",
        "    datas[date][\"cleaning\"]={}\n",
        "  datas[date][\"cleaning\"][\"dropped_duplicates\"] = dropped_duplicates\n",
        "  return df_ok"
      ],
      "metadata": {
        "id": "srgZakQydvsN"
      },
      "execution_count": 8,
      "outputs": []
    },
    {
      "cell_type": "code",
      "source": [
        "for date in tqdm.tqdm(datas.keys()):\n",
        "\n",
        "  oneday_df = read_one_day(datas[date][\"file\"])\n",
        "  #собираю статистику\n",
        "  describe_bad_data(oneday_df, date)\n",
        "\n",
        "  oneday_df = clean_zeros(oneday_df, date) # удаляю нулевые транзакции\n",
        "  oneday_df = clear_nas(oneday_df, date) # удаляю где есть пустоты\n",
        "  oneday_df = clear_time(oneday_df, date) # удаляю вне времени торговли\n",
        "  oneday_df = clean_duplicates(oneday_df, date) # удаляю дубликаты\n",
        "  blue_chips_data[date] = oneday_df.filter(ps.col(\"SECCODE\").is_in(blue_chips)) #сохраняю данные для второй части\n",
        "  del oneday_df\n",
        "  gc.collect()\n"
      ],
      "metadata": {
        "colab": {
          "base_uri": "https://localhost:8080/"
        },
        "id": "9yT2YIMgO0pJ",
        "outputId": "23fc6893-8b38-4b0e-dc30-1876d24aa2a1"
      },
      "execution_count": 9,
      "outputs": [
        {
          "output_type": "stream",
          "name": "stderr",
          "text": [
            "100%|██████████| 22/22 [11:47<00:00, 32.17s/it]\n"
          ]
        }
      ]
    },
    {
      "cell_type": "code",
      "source": [
        "all_stats = [(k, v[\"cleaning\"]) for k,v in datas.items()]\n",
        "for i in range(len(all_stats)):\n",
        "  all_stats[i][1][\"date\"] = all_stats[i][0]\n",
        "all_stats = [a[1] for a in all_stats]\n",
        "\n",
        "all_stats_pd = pd.json_normalize(all_stats)"
      ],
      "metadata": {
        "id": "Hb_u8PnxOo0q"
      },
      "execution_count": 10,
      "outputs": []
    },
    {
      "cell_type": "code",
      "source": [
        "all_stats_pd"
      ],
      "metadata": {
        "colab": {
          "base_uri": "https://localhost:8080/",
          "height": 780
        },
        "id": "kHAAHds3MZts",
        "outputId": "6ad7b824-b5a9-4605-b832-a8137a9178a8"
      },
      "execution_count": 11,
      "outputs": [
        {
          "output_type": "execute_result",
          "data": {
            "text/plain": [
              "    deleted_zeros  dropped_nans  out_of_time  dropped_duplicates    date  \\\n",
              "0             787             0        11642                 771  231005   \n",
              "1            6722             0        19868                1260  231013   \n",
              "2            1949             0        17744                2650  231020   \n",
              "3            3557             0        18507                1381  231019   \n",
              "4            5686             0        12854                1344  231027   \n",
              "5             970             0        13333                1198  231006   \n",
              "6             982             0        13191                1325  231010   \n",
              "7            2436             0        15292                1367  231025   \n",
              "8            3228             0        17063                1767  231026   \n",
              "9            1549             0        19333                1717  231004   \n",
              "10           1785             0        13730                3110  231024   \n",
              "11           2751             0        21654                2125  231016   \n",
              "12            420             0        12241                1008  231012   \n",
              "13            776             0        13389                1567  231011   \n",
              "14            390             0        16116                1626  231023   \n",
              "15           1466             0        16390                1279  231002   \n",
              "16           3643             0        18518                1115  231030   \n",
              "17           2192             0        14252                2021  231018   \n",
              "18           1562             0        13656                1141  231009   \n",
              "19            876             0        11154                 845  231003   \n",
              "20           3204             0        13556                1782  231031   \n",
              "21           4183             0        33631                1594  231017   \n",
              "\n",
              "    price.nans  price.nulls  price.bellow_zero  price.above_zero  \\\n",
              "0            0          787                  0          17611206   \n",
              "1            0         6722                  0          17705095   \n",
              "2            0         1949                  0          18128944   \n",
              "3            0         3557                  0          18149038   \n",
              "4            0         5686                  0          24245841   \n",
              "5            0          970                  0          17743958   \n",
              "6            0          982                  0          18498625   \n",
              "7            0         2436                  0          18387866   \n",
              "8            0         3228                  0          24317072   \n",
              "9            0         1549                  0          18698716   \n",
              "10           0         1785                  0          18821091   \n",
              "11           0         2751                  0          24607332   \n",
              "12           0          420                  0          19012622   \n",
              "13           0          776                  0          19343867   \n",
              "14           0          390                  0          19730462   \n",
              "15           0         1466                  0          23769166   \n",
              "16           0         3643                  0          19419447   \n",
              "17           0         2192                  0          20572775   \n",
              "18           0         1562                  0          21032335   \n",
              "19           0          876                  0          22897952   \n",
              "20           0         3204                  0          20529937   \n",
              "21           0         4183                  0          22357533   \n",
              "\n",
              "    price.equal_zero  ...  time.bellow_zero  time.above_zero  time.equal_zero  \\\n",
              "0                  0  ...                 0         17611993                0   \n",
              "1                  0  ...                 0         17711817                0   \n",
              "2                  0  ...                 0         18130893                0   \n",
              "3                  0  ...                 0         18152595                0   \n",
              "4                  0  ...                 0         24251527                0   \n",
              "5                  0  ...                 0         17744928                0   \n",
              "6                  0  ...                 0         18499607                0   \n",
              "7                  0  ...                 0         18390302                0   \n",
              "8                  0  ...                 0         24320300                0   \n",
              "9                  0  ...                 0         18700265                0   \n",
              "10                 0  ...                 0         18822876                0   \n",
              "11                 0  ...                 0         24610083                0   \n",
              "12                 0  ...                 0         19013042                0   \n",
              "13                 0  ...                 0         19344643                0   \n",
              "14                 0  ...                 0         19730852                0   \n",
              "15                 0  ...                 0         23770632                0   \n",
              "16                 0  ...                 0         19423090                0   \n",
              "17                 0  ...                 0         20574967                0   \n",
              "18                 0  ...                 0         21033897                0   \n",
              "19                 0  ...                 0         22898828                0   \n",
              "20                 0  ...                 0         20533141                0   \n",
              "21                 0  ...                 0         22361716                0   \n",
              "\n",
              "    seccode.nulls  buysell.nulls  tradeno.nans  tradeno.nulls  \\\n",
              "0               0              0             0       12234044   \n",
              "1               0              0             0       11883185   \n",
              "2               0              0             0       11776417   \n",
              "3               0              0             0       11768488   \n",
              "4               0              0             0       17511908   \n",
              "5               0              0             0       12024600   \n",
              "6               0              0             0       12422058   \n",
              "7               0              0             0       12186835   \n",
              "8               0              0             0       17217224   \n",
              "9               0              0             0       12978769   \n",
              "10              0              0             0       12436449   \n",
              "11              0              0             0       16912530   \n",
              "12              0              0             0       13083682   \n",
              "13              0              0             0       12737427   \n",
              "14              0              0             0       13058181   \n",
              "15              0              0             0       16658775   \n",
              "16              0              0             0       13620273   \n",
              "17              0              0             0       13860958   \n",
              "18              0              0             0       14232128   \n",
              "19              0              0             0       16094739   \n",
              "20              0              0             0       14363935   \n",
              "21              0              0             0       14924217   \n",
              "\n",
              "    tradeno.bellow_zero  tradeno.above_zero  tradeno.equal_zero  \n",
              "0                     0             5377949                   0  \n",
              "1                     0             5828632                   0  \n",
              "2                     0             6354476                   0  \n",
              "3                     0             6384107                   0  \n",
              "4                     0             6739619                   0  \n",
              "5                     0             5720328                   0  \n",
              "6                     0             6077549                   0  \n",
              "7                     0             6203467                   0  \n",
              "8                     0             7103076                   0  \n",
              "9                     0             5721496                   0  \n",
              "10                    0             6386427                   0  \n",
              "11                    0             7697553                   0  \n",
              "12                    0             5929360                   0  \n",
              "13                    0             6607216                   0  \n",
              "14                    0             6672671                   0  \n",
              "15                    0             7111857                   0  \n",
              "16                    0             5802817                   0  \n",
              "17                    0             6714009                   0  \n",
              "18                    0             6801769                   0  \n",
              "19                    0             6804089                   0  \n",
              "20                    0             6169206                   0  \n",
              "21                    0             7437499                   0  \n",
              "\n",
              "[22 rows x 27 columns]"
            ],
            "text/html": [
              "\n",
              "  <div id=\"df-3e7182ba-e1bb-47a0-aa71-ed74b66e2dd1\" class=\"colab-df-container\">\n",
              "    <div>\n",
              "<style scoped>\n",
              "    .dataframe tbody tr th:only-of-type {\n",
              "        vertical-align: middle;\n",
              "    }\n",
              "\n",
              "    .dataframe tbody tr th {\n",
              "        vertical-align: top;\n",
              "    }\n",
              "\n",
              "    .dataframe thead th {\n",
              "        text-align: right;\n",
              "    }\n",
              "</style>\n",
              "<table border=\"1\" class=\"dataframe\">\n",
              "  <thead>\n",
              "    <tr style=\"text-align: right;\">\n",
              "      <th></th>\n",
              "      <th>deleted_zeros</th>\n",
              "      <th>dropped_nans</th>\n",
              "      <th>out_of_time</th>\n",
              "      <th>dropped_duplicates</th>\n",
              "      <th>date</th>\n",
              "      <th>price.nans</th>\n",
              "      <th>price.nulls</th>\n",
              "      <th>price.bellow_zero</th>\n",
              "      <th>price.above_zero</th>\n",
              "      <th>price.equal_zero</th>\n",
              "      <th>...</th>\n",
              "      <th>time.bellow_zero</th>\n",
              "      <th>time.above_zero</th>\n",
              "      <th>time.equal_zero</th>\n",
              "      <th>seccode.nulls</th>\n",
              "      <th>buysell.nulls</th>\n",
              "      <th>tradeno.nans</th>\n",
              "      <th>tradeno.nulls</th>\n",
              "      <th>tradeno.bellow_zero</th>\n",
              "      <th>tradeno.above_zero</th>\n",
              "      <th>tradeno.equal_zero</th>\n",
              "    </tr>\n",
              "  </thead>\n",
              "  <tbody>\n",
              "    <tr>\n",
              "      <th>0</th>\n",
              "      <td>787</td>\n",
              "      <td>0</td>\n",
              "      <td>11642</td>\n",
              "      <td>771</td>\n",
              "      <td>231005</td>\n",
              "      <td>0</td>\n",
              "      <td>787</td>\n",
              "      <td>0</td>\n",
              "      <td>17611206</td>\n",
              "      <td>0</td>\n",
              "      <td>...</td>\n",
              "      <td>0</td>\n",
              "      <td>17611993</td>\n",
              "      <td>0</td>\n",
              "      <td>0</td>\n",
              "      <td>0</td>\n",
              "      <td>0</td>\n",
              "      <td>12234044</td>\n",
              "      <td>0</td>\n",
              "      <td>5377949</td>\n",
              "      <td>0</td>\n",
              "    </tr>\n",
              "    <tr>\n",
              "      <th>1</th>\n",
              "      <td>6722</td>\n",
              "      <td>0</td>\n",
              "      <td>19868</td>\n",
              "      <td>1260</td>\n",
              "      <td>231013</td>\n",
              "      <td>0</td>\n",
              "      <td>6722</td>\n",
              "      <td>0</td>\n",
              "      <td>17705095</td>\n",
              "      <td>0</td>\n",
              "      <td>...</td>\n",
              "      <td>0</td>\n",
              "      <td>17711817</td>\n",
              "      <td>0</td>\n",
              "      <td>0</td>\n",
              "      <td>0</td>\n",
              "      <td>0</td>\n",
              "      <td>11883185</td>\n",
              "      <td>0</td>\n",
              "      <td>5828632</td>\n",
              "      <td>0</td>\n",
              "    </tr>\n",
              "    <tr>\n",
              "      <th>2</th>\n",
              "      <td>1949</td>\n",
              "      <td>0</td>\n",
              "      <td>17744</td>\n",
              "      <td>2650</td>\n",
              "      <td>231020</td>\n",
              "      <td>0</td>\n",
              "      <td>1949</td>\n",
              "      <td>0</td>\n",
              "      <td>18128944</td>\n",
              "      <td>0</td>\n",
              "      <td>...</td>\n",
              "      <td>0</td>\n",
              "      <td>18130893</td>\n",
              "      <td>0</td>\n",
              "      <td>0</td>\n",
              "      <td>0</td>\n",
              "      <td>0</td>\n",
              "      <td>11776417</td>\n",
              "      <td>0</td>\n",
              "      <td>6354476</td>\n",
              "      <td>0</td>\n",
              "    </tr>\n",
              "    <tr>\n",
              "      <th>3</th>\n",
              "      <td>3557</td>\n",
              "      <td>0</td>\n",
              "      <td>18507</td>\n",
              "      <td>1381</td>\n",
              "      <td>231019</td>\n",
              "      <td>0</td>\n",
              "      <td>3557</td>\n",
              "      <td>0</td>\n",
              "      <td>18149038</td>\n",
              "      <td>0</td>\n",
              "      <td>...</td>\n",
              "      <td>0</td>\n",
              "      <td>18152595</td>\n",
              "      <td>0</td>\n",
              "      <td>0</td>\n",
              "      <td>0</td>\n",
              "      <td>0</td>\n",
              "      <td>11768488</td>\n",
              "      <td>0</td>\n",
              "      <td>6384107</td>\n",
              "      <td>0</td>\n",
              "    </tr>\n",
              "    <tr>\n",
              "      <th>4</th>\n",
              "      <td>5686</td>\n",
              "      <td>0</td>\n",
              "      <td>12854</td>\n",
              "      <td>1344</td>\n",
              "      <td>231027</td>\n",
              "      <td>0</td>\n",
              "      <td>5686</td>\n",
              "      <td>0</td>\n",
              "      <td>24245841</td>\n",
              "      <td>0</td>\n",
              "      <td>...</td>\n",
              "      <td>0</td>\n",
              "      <td>24251527</td>\n",
              "      <td>0</td>\n",
              "      <td>0</td>\n",
              "      <td>0</td>\n",
              "      <td>0</td>\n",
              "      <td>17511908</td>\n",
              "      <td>0</td>\n",
              "      <td>6739619</td>\n",
              "      <td>0</td>\n",
              "    </tr>\n",
              "    <tr>\n",
              "      <th>5</th>\n",
              "      <td>970</td>\n",
              "      <td>0</td>\n",
              "      <td>13333</td>\n",
              "      <td>1198</td>\n",
              "      <td>231006</td>\n",
              "      <td>0</td>\n",
              "      <td>970</td>\n",
              "      <td>0</td>\n",
              "      <td>17743958</td>\n",
              "      <td>0</td>\n",
              "      <td>...</td>\n",
              "      <td>0</td>\n",
              "      <td>17744928</td>\n",
              "      <td>0</td>\n",
              "      <td>0</td>\n",
              "      <td>0</td>\n",
              "      <td>0</td>\n",
              "      <td>12024600</td>\n",
              "      <td>0</td>\n",
              "      <td>5720328</td>\n",
              "      <td>0</td>\n",
              "    </tr>\n",
              "    <tr>\n",
              "      <th>6</th>\n",
              "      <td>982</td>\n",
              "      <td>0</td>\n",
              "      <td>13191</td>\n",
              "      <td>1325</td>\n",
              "      <td>231010</td>\n",
              "      <td>0</td>\n",
              "      <td>982</td>\n",
              "      <td>0</td>\n",
              "      <td>18498625</td>\n",
              "      <td>0</td>\n",
              "      <td>...</td>\n",
              "      <td>0</td>\n",
              "      <td>18499607</td>\n",
              "      <td>0</td>\n",
              "      <td>0</td>\n",
              "      <td>0</td>\n",
              "      <td>0</td>\n",
              "      <td>12422058</td>\n",
              "      <td>0</td>\n",
              "      <td>6077549</td>\n",
              "      <td>0</td>\n",
              "    </tr>\n",
              "    <tr>\n",
              "      <th>7</th>\n",
              "      <td>2436</td>\n",
              "      <td>0</td>\n",
              "      <td>15292</td>\n",
              "      <td>1367</td>\n",
              "      <td>231025</td>\n",
              "      <td>0</td>\n",
              "      <td>2436</td>\n",
              "      <td>0</td>\n",
              "      <td>18387866</td>\n",
              "      <td>0</td>\n",
              "      <td>...</td>\n",
              "      <td>0</td>\n",
              "      <td>18390302</td>\n",
              "      <td>0</td>\n",
              "      <td>0</td>\n",
              "      <td>0</td>\n",
              "      <td>0</td>\n",
              "      <td>12186835</td>\n",
              "      <td>0</td>\n",
              "      <td>6203467</td>\n",
              "      <td>0</td>\n",
              "    </tr>\n",
              "    <tr>\n",
              "      <th>8</th>\n",
              "      <td>3228</td>\n",
              "      <td>0</td>\n",
              "      <td>17063</td>\n",
              "      <td>1767</td>\n",
              "      <td>231026</td>\n",
              "      <td>0</td>\n",
              "      <td>3228</td>\n",
              "      <td>0</td>\n",
              "      <td>24317072</td>\n",
              "      <td>0</td>\n",
              "      <td>...</td>\n",
              "      <td>0</td>\n",
              "      <td>24320300</td>\n",
              "      <td>0</td>\n",
              "      <td>0</td>\n",
              "      <td>0</td>\n",
              "      <td>0</td>\n",
              "      <td>17217224</td>\n",
              "      <td>0</td>\n",
              "      <td>7103076</td>\n",
              "      <td>0</td>\n",
              "    </tr>\n",
              "    <tr>\n",
              "      <th>9</th>\n",
              "      <td>1549</td>\n",
              "      <td>0</td>\n",
              "      <td>19333</td>\n",
              "      <td>1717</td>\n",
              "      <td>231004</td>\n",
              "      <td>0</td>\n",
              "      <td>1549</td>\n",
              "      <td>0</td>\n",
              "      <td>18698716</td>\n",
              "      <td>0</td>\n",
              "      <td>...</td>\n",
              "      <td>0</td>\n",
              "      <td>18700265</td>\n",
              "      <td>0</td>\n",
              "      <td>0</td>\n",
              "      <td>0</td>\n",
              "      <td>0</td>\n",
              "      <td>12978769</td>\n",
              "      <td>0</td>\n",
              "      <td>5721496</td>\n",
              "      <td>0</td>\n",
              "    </tr>\n",
              "    <tr>\n",
              "      <th>10</th>\n",
              "      <td>1785</td>\n",
              "      <td>0</td>\n",
              "      <td>13730</td>\n",
              "      <td>3110</td>\n",
              "      <td>231024</td>\n",
              "      <td>0</td>\n",
              "      <td>1785</td>\n",
              "      <td>0</td>\n",
              "      <td>18821091</td>\n",
              "      <td>0</td>\n",
              "      <td>...</td>\n",
              "      <td>0</td>\n",
              "      <td>18822876</td>\n",
              "      <td>0</td>\n",
              "      <td>0</td>\n",
              "      <td>0</td>\n",
              "      <td>0</td>\n",
              "      <td>12436449</td>\n",
              "      <td>0</td>\n",
              "      <td>6386427</td>\n",
              "      <td>0</td>\n",
              "    </tr>\n",
              "    <tr>\n",
              "      <th>11</th>\n",
              "      <td>2751</td>\n",
              "      <td>0</td>\n",
              "      <td>21654</td>\n",
              "      <td>2125</td>\n",
              "      <td>231016</td>\n",
              "      <td>0</td>\n",
              "      <td>2751</td>\n",
              "      <td>0</td>\n",
              "      <td>24607332</td>\n",
              "      <td>0</td>\n",
              "      <td>...</td>\n",
              "      <td>0</td>\n",
              "      <td>24610083</td>\n",
              "      <td>0</td>\n",
              "      <td>0</td>\n",
              "      <td>0</td>\n",
              "      <td>0</td>\n",
              "      <td>16912530</td>\n",
              "      <td>0</td>\n",
              "      <td>7697553</td>\n",
              "      <td>0</td>\n",
              "    </tr>\n",
              "    <tr>\n",
              "      <th>12</th>\n",
              "      <td>420</td>\n",
              "      <td>0</td>\n",
              "      <td>12241</td>\n",
              "      <td>1008</td>\n",
              "      <td>231012</td>\n",
              "      <td>0</td>\n",
              "      <td>420</td>\n",
              "      <td>0</td>\n",
              "      <td>19012622</td>\n",
              "      <td>0</td>\n",
              "      <td>...</td>\n",
              "      <td>0</td>\n",
              "      <td>19013042</td>\n",
              "      <td>0</td>\n",
              "      <td>0</td>\n",
              "      <td>0</td>\n",
              "      <td>0</td>\n",
              "      <td>13083682</td>\n",
              "      <td>0</td>\n",
              "      <td>5929360</td>\n",
              "      <td>0</td>\n",
              "    </tr>\n",
              "    <tr>\n",
              "      <th>13</th>\n",
              "      <td>776</td>\n",
              "      <td>0</td>\n",
              "      <td>13389</td>\n",
              "      <td>1567</td>\n",
              "      <td>231011</td>\n",
              "      <td>0</td>\n",
              "      <td>776</td>\n",
              "      <td>0</td>\n",
              "      <td>19343867</td>\n",
              "      <td>0</td>\n",
              "      <td>...</td>\n",
              "      <td>0</td>\n",
              "      <td>19344643</td>\n",
              "      <td>0</td>\n",
              "      <td>0</td>\n",
              "      <td>0</td>\n",
              "      <td>0</td>\n",
              "      <td>12737427</td>\n",
              "      <td>0</td>\n",
              "      <td>6607216</td>\n",
              "      <td>0</td>\n",
              "    </tr>\n",
              "    <tr>\n",
              "      <th>14</th>\n",
              "      <td>390</td>\n",
              "      <td>0</td>\n",
              "      <td>16116</td>\n",
              "      <td>1626</td>\n",
              "      <td>231023</td>\n",
              "      <td>0</td>\n",
              "      <td>390</td>\n",
              "      <td>0</td>\n",
              "      <td>19730462</td>\n",
              "      <td>0</td>\n",
              "      <td>...</td>\n",
              "      <td>0</td>\n",
              "      <td>19730852</td>\n",
              "      <td>0</td>\n",
              "      <td>0</td>\n",
              "      <td>0</td>\n",
              "      <td>0</td>\n",
              "      <td>13058181</td>\n",
              "      <td>0</td>\n",
              "      <td>6672671</td>\n",
              "      <td>0</td>\n",
              "    </tr>\n",
              "    <tr>\n",
              "      <th>15</th>\n",
              "      <td>1466</td>\n",
              "      <td>0</td>\n",
              "      <td>16390</td>\n",
              "      <td>1279</td>\n",
              "      <td>231002</td>\n",
              "      <td>0</td>\n",
              "      <td>1466</td>\n",
              "      <td>0</td>\n",
              "      <td>23769166</td>\n",
              "      <td>0</td>\n",
              "      <td>...</td>\n",
              "      <td>0</td>\n",
              "      <td>23770632</td>\n",
              "      <td>0</td>\n",
              "      <td>0</td>\n",
              "      <td>0</td>\n",
              "      <td>0</td>\n",
              "      <td>16658775</td>\n",
              "      <td>0</td>\n",
              "      <td>7111857</td>\n",
              "      <td>0</td>\n",
              "    </tr>\n",
              "    <tr>\n",
              "      <th>16</th>\n",
              "      <td>3643</td>\n",
              "      <td>0</td>\n",
              "      <td>18518</td>\n",
              "      <td>1115</td>\n",
              "      <td>231030</td>\n",
              "      <td>0</td>\n",
              "      <td>3643</td>\n",
              "      <td>0</td>\n",
              "      <td>19419447</td>\n",
              "      <td>0</td>\n",
              "      <td>...</td>\n",
              "      <td>0</td>\n",
              "      <td>19423090</td>\n",
              "      <td>0</td>\n",
              "      <td>0</td>\n",
              "      <td>0</td>\n",
              "      <td>0</td>\n",
              "      <td>13620273</td>\n",
              "      <td>0</td>\n",
              "      <td>5802817</td>\n",
              "      <td>0</td>\n",
              "    </tr>\n",
              "    <tr>\n",
              "      <th>17</th>\n",
              "      <td>2192</td>\n",
              "      <td>0</td>\n",
              "      <td>14252</td>\n",
              "      <td>2021</td>\n",
              "      <td>231018</td>\n",
              "      <td>0</td>\n",
              "      <td>2192</td>\n",
              "      <td>0</td>\n",
              "      <td>20572775</td>\n",
              "      <td>0</td>\n",
              "      <td>...</td>\n",
              "      <td>0</td>\n",
              "      <td>20574967</td>\n",
              "      <td>0</td>\n",
              "      <td>0</td>\n",
              "      <td>0</td>\n",
              "      <td>0</td>\n",
              "      <td>13860958</td>\n",
              "      <td>0</td>\n",
              "      <td>6714009</td>\n",
              "      <td>0</td>\n",
              "    </tr>\n",
              "    <tr>\n",
              "      <th>18</th>\n",
              "      <td>1562</td>\n",
              "      <td>0</td>\n",
              "      <td>13656</td>\n",
              "      <td>1141</td>\n",
              "      <td>231009</td>\n",
              "      <td>0</td>\n",
              "      <td>1562</td>\n",
              "      <td>0</td>\n",
              "      <td>21032335</td>\n",
              "      <td>0</td>\n",
              "      <td>...</td>\n",
              "      <td>0</td>\n",
              "      <td>21033897</td>\n",
              "      <td>0</td>\n",
              "      <td>0</td>\n",
              "      <td>0</td>\n",
              "      <td>0</td>\n",
              "      <td>14232128</td>\n",
              "      <td>0</td>\n",
              "      <td>6801769</td>\n",
              "      <td>0</td>\n",
              "    </tr>\n",
              "    <tr>\n",
              "      <th>19</th>\n",
              "      <td>876</td>\n",
              "      <td>0</td>\n",
              "      <td>11154</td>\n",
              "      <td>845</td>\n",
              "      <td>231003</td>\n",
              "      <td>0</td>\n",
              "      <td>876</td>\n",
              "      <td>0</td>\n",
              "      <td>22897952</td>\n",
              "      <td>0</td>\n",
              "      <td>...</td>\n",
              "      <td>0</td>\n",
              "      <td>22898828</td>\n",
              "      <td>0</td>\n",
              "      <td>0</td>\n",
              "      <td>0</td>\n",
              "      <td>0</td>\n",
              "      <td>16094739</td>\n",
              "      <td>0</td>\n",
              "      <td>6804089</td>\n",
              "      <td>0</td>\n",
              "    </tr>\n",
              "    <tr>\n",
              "      <th>20</th>\n",
              "      <td>3204</td>\n",
              "      <td>0</td>\n",
              "      <td>13556</td>\n",
              "      <td>1782</td>\n",
              "      <td>231031</td>\n",
              "      <td>0</td>\n",
              "      <td>3204</td>\n",
              "      <td>0</td>\n",
              "      <td>20529937</td>\n",
              "      <td>0</td>\n",
              "      <td>...</td>\n",
              "      <td>0</td>\n",
              "      <td>20533141</td>\n",
              "      <td>0</td>\n",
              "      <td>0</td>\n",
              "      <td>0</td>\n",
              "      <td>0</td>\n",
              "      <td>14363935</td>\n",
              "      <td>0</td>\n",
              "      <td>6169206</td>\n",
              "      <td>0</td>\n",
              "    </tr>\n",
              "    <tr>\n",
              "      <th>21</th>\n",
              "      <td>4183</td>\n",
              "      <td>0</td>\n",
              "      <td>33631</td>\n",
              "      <td>1594</td>\n",
              "      <td>231017</td>\n",
              "      <td>0</td>\n",
              "      <td>4183</td>\n",
              "      <td>0</td>\n",
              "      <td>22357533</td>\n",
              "      <td>0</td>\n",
              "      <td>...</td>\n",
              "      <td>0</td>\n",
              "      <td>22361716</td>\n",
              "      <td>0</td>\n",
              "      <td>0</td>\n",
              "      <td>0</td>\n",
              "      <td>0</td>\n",
              "      <td>14924217</td>\n",
              "      <td>0</td>\n",
              "      <td>7437499</td>\n",
              "      <td>0</td>\n",
              "    </tr>\n",
              "  </tbody>\n",
              "</table>\n",
              "<p>22 rows × 27 columns</p>\n",
              "</div>\n",
              "    <div class=\"colab-df-buttons\">\n",
              "\n",
              "  <div class=\"colab-df-container\">\n",
              "    <button class=\"colab-df-convert\" onclick=\"convertToInteractive('df-3e7182ba-e1bb-47a0-aa71-ed74b66e2dd1')\"\n",
              "            title=\"Convert this dataframe to an interactive table.\"\n",
              "            style=\"display:none;\">\n",
              "\n",
              "  <svg xmlns=\"http://www.w3.org/2000/svg\" height=\"24px\" viewBox=\"0 -960 960 960\">\n",
              "    <path d=\"M120-120v-720h720v720H120Zm60-500h600v-160H180v160Zm220 220h160v-160H400v160Zm0 220h160v-160H400v160ZM180-400h160v-160H180v160Zm440 0h160v-160H620v160ZM180-180h160v-160H180v160Zm440 0h160v-160H620v160Z\"/>\n",
              "  </svg>\n",
              "    </button>\n",
              "\n",
              "  <style>\n",
              "    .colab-df-container {\n",
              "      display:flex;\n",
              "      gap: 12px;\n",
              "    }\n",
              "\n",
              "    .colab-df-convert {\n",
              "      background-color: #E8F0FE;\n",
              "      border: none;\n",
              "      border-radius: 50%;\n",
              "      cursor: pointer;\n",
              "      display: none;\n",
              "      fill: #1967D2;\n",
              "      height: 32px;\n",
              "      padding: 0 0 0 0;\n",
              "      width: 32px;\n",
              "    }\n",
              "\n",
              "    .colab-df-convert:hover {\n",
              "      background-color: #E2EBFA;\n",
              "      box-shadow: 0px 1px 2px rgba(60, 64, 67, 0.3), 0px 1px 3px 1px rgba(60, 64, 67, 0.15);\n",
              "      fill: #174EA6;\n",
              "    }\n",
              "\n",
              "    .colab-df-buttons div {\n",
              "      margin-bottom: 4px;\n",
              "    }\n",
              "\n",
              "    [theme=dark] .colab-df-convert {\n",
              "      background-color: #3B4455;\n",
              "      fill: #D2E3FC;\n",
              "    }\n",
              "\n",
              "    [theme=dark] .colab-df-convert:hover {\n",
              "      background-color: #434B5C;\n",
              "      box-shadow: 0px 1px 3px 1px rgba(0, 0, 0, 0.15);\n",
              "      filter: drop-shadow(0px 1px 2px rgba(0, 0, 0, 0.3));\n",
              "      fill: #FFFFFF;\n",
              "    }\n",
              "  </style>\n",
              "\n",
              "    <script>\n",
              "      const buttonEl =\n",
              "        document.querySelector('#df-3e7182ba-e1bb-47a0-aa71-ed74b66e2dd1 button.colab-df-convert');\n",
              "      buttonEl.style.display =\n",
              "        google.colab.kernel.accessAllowed ? 'block' : 'none';\n",
              "\n",
              "      async function convertToInteractive(key) {\n",
              "        const element = document.querySelector('#df-3e7182ba-e1bb-47a0-aa71-ed74b66e2dd1');\n",
              "        const dataTable =\n",
              "          await google.colab.kernel.invokeFunction('convertToInteractive',\n",
              "                                                    [key], {});\n",
              "        if (!dataTable) return;\n",
              "\n",
              "        const docLinkHtml = 'Like what you see? Visit the ' +\n",
              "          '<a target=\"_blank\" href=https://colab.research.google.com/notebooks/data_table.ipynb>data table notebook</a>'\n",
              "          + ' to learn more about interactive tables.';\n",
              "        element.innerHTML = '';\n",
              "        dataTable['output_type'] = 'display_data';\n",
              "        await google.colab.output.renderOutput(dataTable, element);\n",
              "        const docLink = document.createElement('div');\n",
              "        docLink.innerHTML = docLinkHtml;\n",
              "        element.appendChild(docLink);\n",
              "      }\n",
              "    </script>\n",
              "  </div>\n",
              "\n",
              "\n",
              "<div id=\"df-5ce61ef2-43d9-4b00-8e1a-c11a811a101a\">\n",
              "  <button class=\"colab-df-quickchart\" onclick=\"quickchart('df-5ce61ef2-43d9-4b00-8e1a-c11a811a101a')\"\n",
              "            title=\"Suggest charts\"\n",
              "            style=\"display:none;\">\n",
              "\n",
              "<svg xmlns=\"http://www.w3.org/2000/svg\" height=\"24px\"viewBox=\"0 0 24 24\"\n",
              "     width=\"24px\">\n",
              "    <g>\n",
              "        <path d=\"M19 3H5c-1.1 0-2 .9-2 2v14c0 1.1.9 2 2 2h14c1.1 0 2-.9 2-2V5c0-1.1-.9-2-2-2zM9 17H7v-7h2v7zm4 0h-2V7h2v10zm4 0h-2v-4h2v4z\"/>\n",
              "    </g>\n",
              "</svg>\n",
              "  </button>\n",
              "\n",
              "<style>\n",
              "  .colab-df-quickchart {\n",
              "      --bg-color: #E8F0FE;\n",
              "      --fill-color: #1967D2;\n",
              "      --hover-bg-color: #E2EBFA;\n",
              "      --hover-fill-color: #174EA6;\n",
              "      --disabled-fill-color: #AAA;\n",
              "      --disabled-bg-color: #DDD;\n",
              "  }\n",
              "\n",
              "  [theme=dark] .colab-df-quickchart {\n",
              "      --bg-color: #3B4455;\n",
              "      --fill-color: #D2E3FC;\n",
              "      --hover-bg-color: #434B5C;\n",
              "      --hover-fill-color: #FFFFFF;\n",
              "      --disabled-bg-color: #3B4455;\n",
              "      --disabled-fill-color: #666;\n",
              "  }\n",
              "\n",
              "  .colab-df-quickchart {\n",
              "    background-color: var(--bg-color);\n",
              "    border: none;\n",
              "    border-radius: 50%;\n",
              "    cursor: pointer;\n",
              "    display: none;\n",
              "    fill: var(--fill-color);\n",
              "    height: 32px;\n",
              "    padding: 0;\n",
              "    width: 32px;\n",
              "  }\n",
              "\n",
              "  .colab-df-quickchart:hover {\n",
              "    background-color: var(--hover-bg-color);\n",
              "    box-shadow: 0 1px 2px rgba(60, 64, 67, 0.3), 0 1px 3px 1px rgba(60, 64, 67, 0.15);\n",
              "    fill: var(--button-hover-fill-color);\n",
              "  }\n",
              "\n",
              "  .colab-df-quickchart-complete:disabled,\n",
              "  .colab-df-quickchart-complete:disabled:hover {\n",
              "    background-color: var(--disabled-bg-color);\n",
              "    fill: var(--disabled-fill-color);\n",
              "    box-shadow: none;\n",
              "  }\n",
              "\n",
              "  .colab-df-spinner {\n",
              "    border: 2px solid var(--fill-color);\n",
              "    border-color: transparent;\n",
              "    border-bottom-color: var(--fill-color);\n",
              "    animation:\n",
              "      spin 1s steps(1) infinite;\n",
              "  }\n",
              "\n",
              "  @keyframes spin {\n",
              "    0% {\n",
              "      border-color: transparent;\n",
              "      border-bottom-color: var(--fill-color);\n",
              "      border-left-color: var(--fill-color);\n",
              "    }\n",
              "    20% {\n",
              "      border-color: transparent;\n",
              "      border-left-color: var(--fill-color);\n",
              "      border-top-color: var(--fill-color);\n",
              "    }\n",
              "    30% {\n",
              "      border-color: transparent;\n",
              "      border-left-color: var(--fill-color);\n",
              "      border-top-color: var(--fill-color);\n",
              "      border-right-color: var(--fill-color);\n",
              "    }\n",
              "    40% {\n",
              "      border-color: transparent;\n",
              "      border-right-color: var(--fill-color);\n",
              "      border-top-color: var(--fill-color);\n",
              "    }\n",
              "    60% {\n",
              "      border-color: transparent;\n",
              "      border-right-color: var(--fill-color);\n",
              "    }\n",
              "    80% {\n",
              "      border-color: transparent;\n",
              "      border-right-color: var(--fill-color);\n",
              "      border-bottom-color: var(--fill-color);\n",
              "    }\n",
              "    90% {\n",
              "      border-color: transparent;\n",
              "      border-bottom-color: var(--fill-color);\n",
              "    }\n",
              "  }\n",
              "</style>\n",
              "\n",
              "  <script>\n",
              "    async function quickchart(key) {\n",
              "      const quickchartButtonEl =\n",
              "        document.querySelector('#' + key + ' button');\n",
              "      quickchartButtonEl.disabled = true;  // To prevent multiple clicks.\n",
              "      quickchartButtonEl.classList.add('colab-df-spinner');\n",
              "      try {\n",
              "        const charts = await google.colab.kernel.invokeFunction(\n",
              "            'suggestCharts', [key], {});\n",
              "      } catch (error) {\n",
              "        console.error('Error during call to suggestCharts:', error);\n",
              "      }\n",
              "      quickchartButtonEl.classList.remove('colab-df-spinner');\n",
              "      quickchartButtonEl.classList.add('colab-df-quickchart-complete');\n",
              "    }\n",
              "    (() => {\n",
              "      let quickchartButtonEl =\n",
              "        document.querySelector('#df-5ce61ef2-43d9-4b00-8e1a-c11a811a101a button');\n",
              "      quickchartButtonEl.style.display =\n",
              "        google.colab.kernel.accessAllowed ? 'block' : 'none';\n",
              "    })();\n",
              "  </script>\n",
              "</div>\n",
              "    </div>\n",
              "  </div>\n"
            ],
            "application/vnd.google.colaboratory.intrinsic+json": {
              "type": "dataframe",
              "variable_name": "all_stats_pd"
            }
          },
          "metadata": {},
          "execution_count": 11
        }
      ]
    },
    {
      "cell_type": "markdown",
      "source": [
        "# Analysis of blue-chip stocks\n"
      ],
      "metadata": {
        "id": "0gsWFw4EUUTS"
      }
    },
    {
      "cell_type": "code",
      "source": [
        "for k in blue_chips_data.keys():\n",
        "  blue_chips_data[k] = blue_chips_data[k].with_columns(ps.lit(k).alias(\"date\"))\n",
        "all_blue_chips_data = ps.concat(blue_chips_data.values())"
      ],
      "metadata": {
        "id": "3bfznXl6Xvah"
      },
      "execution_count": 12,
      "outputs": []
    },
    {
      "cell_type": "code",
      "source": [
        "all_blue_chips_trades = all_blue_chips_data.filter(ps.col(\"TRADENO\").is_not_null())\\\n",
        ".filter(ps.col(\"BUYSELL\")==\"S\")"
      ],
      "metadata": {
        "id": "uty2UcFz1FKM"
      },
      "execution_count": 13,
      "outputs": []
    },
    {
      "cell_type": "code",
      "source": [
        "all_blue_chips_data\\\n",
        "  .filter((ps.col(\"SECCODE\")==\"NVTK\") & (ps.col(\"date\")==\"231013\"))\\\n",
        "  .filter(ps.col(\"TRADENO\").is_not_null())\\\n",
        ".sort(\"TIME\").group_by(\"BUYSELL\").agg(ps.col(\"VOLUME\").sum())"
      ],
      "metadata": {
        "colab": {
          "base_uri": "https://localhost:8080/",
          "height": 159
        },
        "id": "_NzUIPI_XKx-",
        "outputId": "f5ded9db-9871-4199-8638-f76c1219c861"
      },
      "execution_count": 14,
      "outputs": [
        {
          "output_type": "execute_result",
          "data": {
            "text/plain": [
              "shape: (2, 2)\n",
              "┌─────────┬────────┐\n",
              "│ BUYSELL ┆ VOLUME │\n",
              "│ ---     ┆ ---    │\n",
              "│ str     ┆ i64    │\n",
              "╞═════════╪════════╡\n",
              "│ S       ┆ 374268 │\n",
              "│ B       ┆ 374268 │\n",
              "└─────────┴────────┘"
            ],
            "text/html": [
              "<div><style>\n",
              ".dataframe > thead > tr,\n",
              ".dataframe > tbody > tr {\n",
              "  text-align: right;\n",
              "  white-space: pre-wrap;\n",
              "}\n",
              "</style>\n",
              "<small>shape: (2, 2)</small><table border=\"1\" class=\"dataframe\"><thead><tr><th>BUYSELL</th><th>VOLUME</th></tr><tr><td>str</td><td>i64</td></tr></thead><tbody><tr><td>&quot;S&quot;</td><td>374268</td></tr><tr><td>&quot;B&quot;</td><td>374268</td></tr></tbody></table></div>"
            ]
          },
          "metadata": {},
          "execution_count": 14
        }
      ]
    },
    {
      "cell_type": "code",
      "source": [
        "def find_daily_volatility(group_series):\n",
        "  group_df = ps.DataFrame(group_series, schema=[\"TIME\", \"PRICE\"])\n",
        "\n",
        "  agg = group_df\\\n",
        "    .sort([\"TIME\"])\\\n",
        "    .with_columns(\n",
        "        (ps.col(\"PRICE\")/ps.col(\"PRICE\").shift()).log().pow(2).alias(\"p_diff_log_sq\")\n",
        "        )\\\n",
        "    .select(\n",
        "        ps.col(\"p_diff_log_sq\").sum().pow(0.5).alias(\"daily_volatility\"),\n",
        "        )\n",
        "  return agg[\"daily_volatility\"][0]\n",
        "\n",
        "def find_quotes_changes(group_series):\n",
        "  group_df = ps.DataFrame(group_series, schema=[\"TIME\", \"PRICE\"])\n",
        "\n",
        "  agg = group_df\\\n",
        "    .sort([\"TIME\"])\\\n",
        "    .with_columns(\n",
        "        (ps.col(\"PRICE\")/ps.col(\"PRICE\").shift()).alias(\"p_diff\")\n",
        "        )\\\n",
        "    .select(\n",
        "        ps.when(ps.col(\"p_diff\")==1).then(0).otherwise(1).sum().alias(\"quotes_changes\")\n",
        "        )\n",
        "  return agg[\"quotes_changes\"][0]\n",
        "\n",
        "def calc_daily_stats(df):\n",
        "  daily_stats = df.group_by([\"SECCODE\", \"date\"])\\\n",
        "  .agg(\n",
        "    (ps.col(\"VOLUME\")*ps.col(\"PRICE\")).sum().alias(\"daily_total_rubble_volume\"),\n",
        "    (ps.col(\"VOLUME\")*ps.col(\"PRICE\")).mean().alias(\"daily_avg_rubble_volume\"),\n",
        "    (ps.col(\"VOLUME\")*ps.col(\"PRICE\")).median().alias(\"daily_median_rubble_volume\"),\n",
        "\n",
        "    ps.col(\"VOLUME\").sum().alias(\"daily_total_volume\"),\n",
        "    ps.col(\"VOLUME\").mean().alias(\"daily_avg_volume\"),\n",
        "    ps.col(\"VOLUME\").median().alias(\"daily_median_volume\"),\n",
        "\n",
        "    ps.col(\"PRICE\").mean().alias(\"daily_avg_price\"),\n",
        "    ps.col(\"TRADENO\").count().alias(\"daily_transactions\"),\n",
        "\n",
        "    ps.map_groups(\n",
        "        exprs=[ \"TIME\", \"PRICE\"],\n",
        "        function=find_daily_volatility).alias(\"daily_volatility\"),\n",
        "    ps.map_groups(\n",
        "        exprs=[ \"TIME\", \"PRICE\"],\n",
        "        function=find_quotes_changes).alias(\"daily_quotes_changes\"),\n",
        "  )\\\n",
        "  .with_columns((ps.col(\"daily_total_rubble_volume\")/ps.col(\"daily_total_volume\")).alias(\"daily_avg_weighted_price\"))\\\n",
        "  .with_columns(ps.col(\"daily_avg_weighted_price\").alias(\"P\"),\n",
        "                ps.col(\"daily_total_volume\").alias(\"V\")\n",
        "                )\\\n",
        "  .sort([\"SECCODE\", \"date\"])\n",
        "  return daily_stats\n",
        "\n",
        "\n",
        "daily_stats_TRADES = calc_daily_stats(all_blue_chips_trades)"
      ],
      "metadata": {
        "id": "n4GL02Q9X_o6"
      },
      "execution_count": 15,
      "outputs": []
    },
    {
      "cell_type": "markdown",
      "source": [
        "## 5. Answer the following questions:\n",
        "a) Which stock was the most/least volatile during the period under investigation?\n",
        "\n",
        "b) Which stock had the largest/lowest share volume? ruble volume?\n",
        "\n",
        "c) Which stock had the largest/lowest number of transactions?\n",
        "\n",
        "d) Which stock had the largest/lowest number of quotes changes?\n",
        "\n",
        "e) On which day of the week stocks had the largest/lowest volume in the sample?\n",
        "\n",
        "f) Which stock had the highest/lowest ruble bid-ask spread? percentage bid-ask\n",
        "spread?"
      ],
      "metadata": {
        "id": "CED3_eWSpOvD"
      }
    },
    {
      "cell_type": "markdown",
      "source": [
        "### a) Which stock was the most/least volatile during the period under investigation?"
      ],
      "metadata": {
        "id": "24UeSPmE4aAq"
      }
    },
    {
      "cell_type": "code",
      "source": [
        "#Which stock was the most/least volatile during the period under investigation?\n",
        "mean_daily_volatility = daily_stats_TRADES.group_by(\"SECCODE\").agg(ps.col(\"daily_volatility\").mean().alias(\"mean_daily_volatility\"))\\\n",
        ".sort(\"mean_daily_volatility\")\n",
        "print(mean_daily_volatility[0])\n",
        "print(mean_daily_volatility[-1])"
      ],
      "metadata": {
        "colab": {
          "base_uri": "https://localhost:8080/"
        },
        "id": "Coku5i3-fFP2",
        "outputId": "8c39a8b6-1559-478a-a95a-99ab9b46b5c0"
      },
      "execution_count": 16,
      "outputs": [
        {
          "output_type": "stream",
          "name": "stdout",
          "text": [
            "shape: (1, 2)\n",
            "┌─────────┬───────────────────────┐\n",
            "│ SECCODE ┆ mean_daily_volatility │\n",
            "│ ---     ┆ ---                   │\n",
            "│ str     ┆ f64                   │\n",
            "╞═════════╪═══════════════════════╡\n",
            "│ GMKN    ┆ 0.025073              │\n",
            "└─────────┴───────────────────────┘\n",
            "shape: (1, 2)\n",
            "┌─────────┬───────────────────────┐\n",
            "│ SECCODE ┆ mean_daily_volatility │\n",
            "│ ---     ┆ ---                   │\n",
            "│ str     ┆ f64                   │\n",
            "╞═════════╪═══════════════════════╡\n",
            "│ YNDX    ┆ 0.05363               │\n",
            "└─────────┴───────────────────────┘\n"
          ]
        }
      ]
    },
    {
      "cell_type": "markdown",
      "source": [
        "### b) Which stock had the largest/lowest share volume? ruble volume?"
      ],
      "metadata": {
        "id": "W74_ufM84fvE"
      }
    },
    {
      "cell_type": "code",
      "source": [
        "# Which stock had the largest/lowest share volume? ruble volume?\n",
        "volumes = daily_stats_TRADES.group_by(\"SECCODE\")\\\n",
        "  .agg(\n",
        "        ps.col(\"daily_total_volume\").sum().alias(\"total_volume\"),\n",
        "        ps.col(\"daily_total_rubble_volume\").sum().alias(\"total_rubble_volume\")\n",
        "      )\n",
        "#share volume\n",
        "print(\"share volume\")\n",
        "print(volumes.sort(\"total_volume\").select(\"total_volume\")[0])\n",
        "print(volumes.sort(\"total_volume\").select(\"total_volume\")[-1])\n",
        "print(\"####################################################\")\n",
        "\n",
        "#ruble volume\n",
        "print(\"ruble volume\")\n",
        "print(volumes.sort(\"total_rubble_volume\").select(\"total_rubble_volume\")[0])\n",
        "print(volumes.sort(\"total_rubble_volume\").select(\"total_rubble_volume\")[-1])"
      ],
      "metadata": {
        "colab": {
          "base_uri": "https://localhost:8080/"
        },
        "id": "yNCMC65y2OrU",
        "outputId": "173eeed6-b581-4c87-8403-8d5bdfb42eac"
      },
      "execution_count": 17,
      "outputs": [
        {
          "output_type": "stream",
          "name": "stdout",
          "text": [
            "share volume\n",
            "shape: (1, 1)\n",
            "┌──────────────┐\n",
            "│ total_volume │\n",
            "│ ---          │\n",
            "│ i64          │\n",
            "╞══════════════╡\n",
            "│ 1294065      │\n",
            "└──────────────┘\n",
            "shape: (1, 1)\n",
            "┌──────────────┐\n",
            "│ total_volume │\n",
            "│ ---          │\n",
            "│ i64          │\n",
            "╞══════════════╡\n",
            "│ 2414519200   │\n",
            "└──────────────┘\n",
            "####################################################\n",
            "ruble volume\n",
            "shape: (1, 1)\n",
            "┌─────────────────────┐\n",
            "│ total_rubble_volume │\n",
            "│ ---                 │\n",
            "│ f64                 │\n",
            "╞═════════════════════╡\n",
            "│ 8.9012e9            │\n",
            "└─────────────────────┘\n",
            "shape: (1, 1)\n",
            "┌─────────────────────┐\n",
            "│ total_rubble_volume │\n",
            "│ ---                 │\n",
            "│ f64                 │\n",
            "╞═════════════════════╡\n",
            "│ 1.9346e11           │\n",
            "└─────────────────────┘\n"
          ]
        }
      ]
    },
    {
      "cell_type": "markdown",
      "source": [
        "### c) Which stock had the largest/lowest number of transactions?"
      ],
      "metadata": {
        "id": "rzkdQLV04jg7"
      }
    },
    {
      "cell_type": "code",
      "source": [
        "# c) Which stock had the largest/lowest number of transactions?\n",
        "transactions = daily_stats_TRADES.group_by(\"SECCODE\")\\\n",
        "  .agg(\n",
        "        ps.col(\"daily_transactions\").sum().alias(\"total_transactions\"),\n",
        "      )\n",
        "print(transactions.sort(\"total_transactions\")[0])\n",
        "print(transactions.sort(\"total_transactions\")[-1])"
      ],
      "metadata": {
        "colab": {
          "base_uri": "https://localhost:8080/"
        },
        "id": "-VZ_EG9z0iNA",
        "outputId": "2875fd4f-9f99-458d-a083-c40eecf56932"
      },
      "execution_count": 18,
      "outputs": [
        {
          "output_type": "stream",
          "name": "stdout",
          "text": [
            "shape: (1, 2)\n",
            "┌─────────┬────────────────────┐\n",
            "│ SECCODE ┆ total_transactions │\n",
            "│ ---     ┆ ---                │\n",
            "│ str     ┆ u32                │\n",
            "╞═════════╪════════════════════╡\n",
            "│ PLZL    ┆ 218637             │\n",
            "└─────────┴────────────────────┘\n",
            "shape: (1, 2)\n",
            "┌─────────┬────────────────────┐\n",
            "│ SECCODE ┆ total_transactions │\n",
            "│ ---     ┆ ---                │\n",
            "│ str     ┆ u32                │\n",
            "╞═════════╪════════════════════╡\n",
            "│ LKOH    ┆ 1574648            │\n",
            "└─────────┴────────────────────┘\n"
          ]
        }
      ]
    },
    {
      "cell_type": "markdown",
      "source": [
        "### d) Which stock had the largest/lowest number of quotes changes?"
      ],
      "metadata": {
        "id": "zMb7h0A34le-"
      }
    },
    {
      "cell_type": "code",
      "source": [
        "\n",
        "# d) Which stock had the largest/lowest number of quotes changes?\n",
        "quotes_changes = daily_stats_TRADES.group_by(\"SECCODE\")\\\n",
        "  .agg(\n",
        "        ps.col(\"daily_quotes_changes\").sum().alias(\"total_quotes_changes\"),\n",
        "      )\n",
        "print(quotes_changes.sort(\"total_quotes_changes\")[0])\n",
        "print(quotes_changes.sort(\"total_quotes_changes\")[-1])"
      ],
      "metadata": {
        "colab": {
          "base_uri": "https://localhost:8080/"
        },
        "id": "aExgEsWo4UYY",
        "outputId": "67d7142a-7006-44ea-827b-bc2cfa71c4ba"
      },
      "execution_count": 19,
      "outputs": [
        {
          "output_type": "stream",
          "name": "stdout",
          "text": [
            "shape: (1, 2)\n",
            "┌─────────┬──────────────────────┐\n",
            "│ SECCODE ┆ total_quotes_changes │\n",
            "│ ---     ┆ ---                  │\n",
            "│ str     ┆ i64                  │\n",
            "╞═════════╪══════════════════════╡\n",
            "│ MTSS    ┆ 107436               │\n",
            "└─────────┴──────────────────────┘\n",
            "shape: (1, 2)\n",
            "┌─────────┬──────────────────────┐\n",
            "│ SECCODE ┆ total_quotes_changes │\n",
            "│ ---     ┆ ---                  │\n",
            "│ str     ┆ i64                  │\n",
            "╞═════════╪══════════════════════╡\n",
            "│ LKOH    ┆ 729430               │\n",
            "└─────────┴──────────────────────┘\n"
          ]
        }
      ]
    },
    {
      "cell_type": "markdown",
      "source": [
        "### e) On which day of the week stocks had the largest/lowest volume in the sample?"
      ],
      "metadata": {
        "id": "EU_Al3BE7CH8"
      }
    },
    {
      "cell_type": "code",
      "source": [
        "# e) On which day of the week stocks had the largest/lowest volume in the sample?\n",
        "volume_on_date = daily_stats_TRADES.group_by(\"date\")\\\n",
        "  .agg(ps.col(\"daily_total_rubble_volume\").sum().alias(\"date_total_rubble_volume\"),\n",
        "       ps.col(\"daily_total_volume\").sum().alias(\"date_total_volume\"))\n",
        "volume_on_date = volume_on_date.with_columns(ps.col(\"date\").str.to_date(format=\"%y%m%d\").dt.weekday().alias(\"weekday\"))\n",
        "\n",
        "volume_on_wd = volume_on_date.group_by(\"weekday\")\\\n",
        "  .agg(\n",
        "      ps.col(\"date_total_volume\").sum().alias(\"weekday_total_volume\"),\n",
        "      ps.col(\"date_total_rubble_volume\").sum().alias(\"weekday_total_rubble_volume\"),\n",
        "                                       )\n",
        "volume_on_wd\n",
        "\n",
        "\n",
        "#share volume\n",
        "print(\"weekday volume\")\n",
        "print(volume_on_wd.sort(\"weekday_total_volume\").select(\"weekday_total_volume\")[0])\n",
        "print(volume_on_wd.sort(\"weekday_total_volume\").select(\"weekday_total_volume\")[-1])\n",
        "print(\"####################################################\")\n",
        "\n",
        "#ruble volume\n",
        "print(\"weekday ruble volume\")\n",
        "print(volume_on_wd.sort(\"weekday_total_rubble_volume\").select(\"weekday_total_rubble_volume\")[0])\n",
        "print(volume_on_wd.sort(\"weekday_total_rubble_volume\").select(\"weekday_total_rubble_volume\")[-1])"
      ],
      "metadata": {
        "colab": {
          "base_uri": "https://localhost:8080/"
        },
        "id": "gPCwGW2Z60pJ",
        "outputId": "3e1213eb-b176-4f57-f3e6-93d439f7c105"
      },
      "execution_count": 20,
      "outputs": [
        {
          "output_type": "stream",
          "name": "stdout",
          "text": [
            "weekday volume\n",
            "shape: (1, 1)\n",
            "┌──────────────────────┐\n",
            "│ weekday_total_volume │\n",
            "│ ---                  │\n",
            "│ i64                  │\n",
            "╞══════════════════════╡\n",
            "│ 568231989            │\n",
            "└──────────────────────┘\n",
            "shape: (1, 1)\n",
            "┌──────────────────────┐\n",
            "│ weekday_total_volume │\n",
            "│ ---                  │\n",
            "│ i64                  │\n",
            "╞══════════════════════╡\n",
            "│ 1344414480           │\n",
            "└──────────────────────┘\n",
            "####################################################\n",
            "weekday ruble volume\n",
            "shape: (1, 1)\n",
            "┌─────────────────────────────┐\n",
            "│ weekday_total_rubble_volume │\n",
            "│ ---                         │\n",
            "│ f64                         │\n",
            "╞═════════════════════════════╡\n",
            "│ 1.1130e11                   │\n",
            "└─────────────────────────────┘\n",
            "shape: (1, 1)\n",
            "┌─────────────────────────────┐\n",
            "│ weekday_total_rubble_volume │\n",
            "│ ---                         │\n",
            "│ f64                         │\n",
            "╞═════════════════════════════╡\n",
            "│ 1.3167e11                   │\n",
            "└─────────────────────────────┘\n"
          ]
        }
      ]
    },
    {
      "cell_type": "markdown",
      "source": [
        "### f) Which stock had the highest/lowest ruble bid-ask spread? percentage bid-ask spread?"
      ],
      "metadata": {
        "id": "nofqsru4-gDD"
      }
    },
    {
      "cell_type": "code",
      "source": [
        "# spreads = all_blue_chips_data\\\n",
        "# .filter(ps.col(\"TRADENO\").is_null())\\\n",
        "# .with_columns(ps.when(ps.col(\"BUYSELL\")==\"B\").then(ps.col(\"PRICE\")).otherwise(None).alias(\"buy_price\"),\n",
        "#               ps.when(ps.col(\"BUYSELL\")==\"S\").then(ps.col(\"PRICE\")).otherwise(None).alias(\"sell_price\"))\\\n",
        "# .group_by(\"SECCODE\", \"date\")\\\n",
        "# .agg(ps.col(\"buy_price\").min().alias(\"best_buy\"),\n",
        "#      ps.col(\"sell_price\").max().alias(\"best_sell\"))\\\n",
        "# .with_columns((ps.col(\"best_sell\") - ps.col(\"best_buy\")).alias(\"spread\"))\\\n",
        "# .with_columns((100*ps.col(\"spread\")/ps.col(\"best_sell\")).alias(\"spread_perc\"))"
      ],
      "metadata": {
        "id": "lxSEFYljhx3H"
      },
      "execution_count": 21,
      "outputs": []
    },
    {
      "cell_type": "code",
      "source": [
        "# f) Which stock had the highest/lowest ruble bid-ask spread? percentage bid-ask spread?\n",
        "spreads = all_blue_chips_data\\\n",
        ".filter(ps.col(\"TRADENO\").is_null())\\\n",
        ".with_columns(ps.when(ps.col(\"BUYSELL\")==\"B\").then(ps.col(\"PRICE\")).otherwise(None).alias(\"buy_price\"),\n",
        "              ps.when(ps.col(\"BUYSELL\")==\"S\").then(ps.col(\"PRICE\")).otherwise(None).alias(\"sell_price\"))\\\n",
        ".group_by(\"SECCODE\", \"date\", \"TIME\")\\\n",
        ".agg(ps.col(\"buy_price\").max().alias(\"best_buy\"),\n",
        "     ps.col(\"sell_price\").min().alias(\"best_sell\"))\\\n",
        ".with_columns((ps.col(\"best_sell\") - ps.col(\"best_buy\")).alias(\"spread\"))\\\n",
        ".with_columns((100*ps.col(\"spread\")/(ps.col(\"best_sell\") + ps.col(\"best_buy\"))/2).alias(\"spread_perc\"))\\\n",
        ".with_columns((ps.col(\"spread\")>0).alias(\"spread_positive\"))\\\n",
        ".filter(ps.col(\"spread\").is_not_null())\\\n",
        ".filter(ps.col(\"spread_positive\")==True)\\\n",
        "\n",
        "spreads.group_by(\"SECCODE\").agg(ps.col(\"spread\").max())\\\n",
        ".sort(\"spread\", descending=True)[:3]"
      ],
      "metadata": {
        "id": "0ZCA3dEQ-iQ8"
      },
      "execution_count": null,
      "outputs": []
    },
    {
      "cell_type": "code",
      "source": [
        "spreads.group_by(\"SECCODE\").agg(ps.col(\"spread_perc\").max())\\\n",
        ".sort(\"spread_perc\", descending=True)[:3]"
      ],
      "metadata": {
        "id": "KnMgRWvgbeMj"
      },
      "execution_count": null,
      "outputs": []
    },
    {
      "cell_type": "markdown",
      "source": [
        "## 6) Examine empirically what is the relationship between the number of trades and thenumber of quotes changes? For example, plot the log of the number of trades against the log of the number of quotes changes calculated for each stock and each trading day."
      ],
      "metadata": {
        "id": "HRFPxGWdSY8B"
      }
    },
    {
      "cell_type": "code",
      "source": [
        "trades_count = all_blue_chips_trades\\\n",
        ".group_by(\"date\", \"SECCODE\")\\\n",
        ".agg(ps.col(\"TRADENO\").n_unique().log().alias(\"trades_count_log\"))\n",
        "\n",
        "daily_quotes_changes = daily_stats_TRADES.select(\"SECCODE\", \"date\",\n",
        "                                              ps.col(\"daily_quotes_changes\").log().alias(\"daily_quotes_changes_log\"))\n",
        "changes_vs_trades = trades_count.join(daily_quotes_changes, on =[\"SECCODE\", \"date\"])\n",
        "\n",
        "sns.scatterplot(data = changes_vs_trades, x=\"trades_count_log\", y=\"daily_quotes_changes_log\")"
      ],
      "metadata": {
        "id": "1RRxUjR8RxUh"
      },
      "execution_count": null,
      "outputs": []
    },
    {
      "cell_type": "markdown",
      "source": [
        "## 7) Trading volume often exhibits specific intraday patterns. Examine intraday patterns in volume by calculating the average ruble volume executed during each 30-min period between 9:50 and 18:50; see figure 10 in example. Stocks differ a lot by volume. To aggregate data across 15 stocks into one chart, you may plot, for example, the typical fraction of daily volume executed during each thirty-minute interval (and then averaged across all stocks). How would you suggest to treat the first and the last intervals given that they are shorter than the rest of intervals?"
      ],
      "metadata": {
        "id": "eDRrIFq0Vlp7"
      }
    },
    {
      "cell_type": "code",
      "source": [
        "def str_to_time(examp):\n",
        "  micro = int(examp[-6:])\n",
        "  ss = int(examp[-8:-6])\n",
        "  mm = int(examp[-10:-8])\n",
        "  hh = int(examp[:-10])\n",
        "  delta = timedelta(hours=hh, minutes=mm, seconds=ss, microseconds=micro)\n",
        "  return delta.total_seconds()\n"
      ],
      "metadata": {
        "id": "rIOcnpjmiAq9"
      },
      "execution_count": null,
      "outputs": []
    },
    {
      "cell_type": "code",
      "source": [
        "str_to_time(\"101000000000\")//1800"
      ],
      "metadata": {
        "id": "QpFcLQCuoXSZ"
      },
      "execution_count": null,
      "outputs": []
    },
    {
      "cell_type": "code",
      "source": [
        "all_blue_chips_data = all_blue_chips_data.with_columns(ps.col(\"TIME\").map_elements(lambda x: str_to_time(str(x)),\n",
        "                                                             return_dtype=float).alias(\"TIME_secs\"))"
      ],
      "metadata": {
        "id": "KSMjF9mGdOJa"
      },
      "execution_count": null,
      "outputs": []
    },
    {
      "cell_type": "code",
      "source": [
        "data_for_hh_analysis =\\\n",
        "all_blue_chips_trades\\\n",
        ".with_columns((ps.col(\"TIME_secs\") // 1800).alias(\"hh\"))\\\n",
        ".group_by(\"date\", \"hh\", \"SECCODE\")\\\n",
        ".agg(ps.col(\"VOLUME\").sum().alias(\"hh_volume\"))\\\n",
        ".sort(\"date\", \"hh\", \"SECCODE\")\n",
        "\n",
        "data_for_hh_analysis_daily =\\\n",
        "data_for_hh_analysis\\\n",
        ".group_by(\"date\",\"SECCODE\")\\\n",
        ".agg(ps.col(\"hh_volume\").sum().alias(\"hh_volume_daily\"))\n",
        "\n",
        "data_for_hh_analysis_predfinal = data_for_hh_analysis.join(data_for_hh_analysis_daily,\n",
        "                                                       on=[\"date\", \"SECCODE\"])\\\n",
        ".with_columns((ps.col(\"hh_volume\")/ps.col(\"hh_volume_daily\")).alias(\"hh_fraction\"))\n",
        "data_for_hh_analysis_predfinal.head()"
      ],
      "metadata": {
        "id": "0IHgbwF9Xh3h"
      },
      "execution_count": null,
      "outputs": []
    },
    {
      "cell_type": "code",
      "source": [
        "def hh_to_str(hh):\n",
        "  hour = int(hh*1800/60/60)\n",
        "  if hh%1 == 0:\n",
        "    return f\"{hour}:00 - {hour}:29\"\n",
        "  else:\n",
        "    return f\"{hour}:30 - {hour}:59\"\n",
        "\n",
        "\n",
        "\n",
        "hh_fraction_for_plot = data_for_hh_analysis_predfinal.group_by(\"hh\")\\\n",
        ".agg(ps.col(\"hh_fraction\").mean().alias(\"fraction\"))\\\n",
        ".sort(\"hh\")\n",
        "\n",
        "hh_fraction_for_plot = hh_fraction_for_plot.with_columns(ps.col(\"hh\")\\\n",
        "                                                         .map_elements(lambda x: hh_to_str(x)).alias(\"hh_str\"))\n",
        "ax = hh_fraction_for_plot.to_pandas().set_index(\"hh\").drop(\"hh_str\", axis=1).plot(figsize=[10,7])\n",
        "_ = ax.set_xticks(hh_fraction_for_plot[\"hh\"])\n",
        "_ = ax.set_xticklabels(hh_fraction_for_plot[\"hh_str\"], rotation=45)\n",
        "#ax.set_xticks(hh_fraction_for_plot[\"hh_str\"],)"
      ],
      "metadata": {
        "id": "0IkKROeYrLA1"
      },
      "execution_count": null,
      "outputs": []
    },
    {
      "cell_type": "markdown",
      "source": [
        "# Test of invariance predictions"
      ],
      "metadata": {
        "id": "FTFl-EvArpWd"
      }
    },
    {
      "cell_type": "markdown",
      "source": [
        "## 8) Examine whether bid-ask spreads for the set of blue-chip stocks are consistent with invariance predictions."
      ],
      "metadata": {
        "id": "f9T8CWrEruFY"
      }
    },
    {
      "cell_type": "markdown",
      "source": [
        "### a) Plot ln(Spread/P) vs ln(1/L). Check whether the slope is similar to 1 as predicted by invariance. Do you observe any interesting deviations from predictions? How to explain them?\n",
        "\n",
        "### b) Color observations for different stocks in different colors (15 colors in total). Do you see any interesting patterns?"
      ],
      "metadata": {
        "id": "moa0BxVLrypV"
      }
    },
    {
      "cell_type": "code",
      "source": [
        "daily_stats_CUT = daily_stats_TRADES\\\n",
        ".select(\"SECCODE\", \"date\", \"P\", \"V\", \"daily_volatility\")\\\n",
        ".with_columns(\n",
        "    (daily_stats_TRADES[\"P\"]*daily_stats_TRADES[\"V\"]/daily_stats_TRADES[\"daily_volatility\"].pow(2)).pow(-1/3).log().alias(\"log(1/L)\"))\n",
        "\n",
        "spreads_daily = spreads.group_by(\"SECCODE\", \"date\").agg(ps.col(\"spread\").max())"
      ],
      "metadata": {
        "id": "6nMniVAJchv0"
      },
      "execution_count": null,
      "outputs": []
    },
    {
      "cell_type": "code",
      "source": [
        "daily_stats_CUT = daily_stats_CUT.join(spreads_daily, on=[\"SECCODE\", \"date\"])\\\n",
        ".with_columns((ps.col(\"spread\")/ps.col(\"P\")).alias(\"S/P\"))\\\n",
        ".with_columns(ps.col(\"S/P\").log().alias(\"log(S/P)\"))\n",
        "daily_stats_CUT.head()"
      ],
      "metadata": {
        "id": "gUFpPKgOd5PV"
      },
      "execution_count": null,
      "outputs": []
    },
    {
      "cell_type": "code",
      "source": [
        "ax = sns.scatterplot(data = daily_stats_CUT, x=\"log(1/L)\", y = \"log(S/P)\", hue=\"SECCODE\")\n",
        "sns.regplot(data=daily_stats_CUT, x=\"log(1/L)\", y=\"log(S/P)\", scatter=False, ax=ax, )"
      ],
      "metadata": {
        "id": "yAvrp1iVebc1"
      },
      "execution_count": null,
      "outputs": []
    },
    {
      "cell_type": "markdown",
      "source": [
        "### c) Plot ln(Spread) vs ln(P/L). Color observations for different stocks in different colors (15 colors in total). Do you see any interesting patterns? How to explain them?"
      ],
      "metadata": {
        "id": "HlvdxRbJgbr7"
      }
    },
    {
      "cell_type": "code",
      "source": [
        "daily_stats_CUT = daily_stats_CUT.with_columns(\n",
        "    ps.col(\"spread\").log().alias(\"log(spread)\"),\n",
        "    (ps.col(\"P\").log() + ps.col(\"log(1/L)\")).alias(\"log(P/L)\"))\n",
        "daily_stats_CUT.head()"
      ],
      "metadata": {
        "id": "cluK97Efgerx"
      },
      "execution_count": null,
      "outputs": []
    },
    {
      "cell_type": "code",
      "source": [
        "ax = sns.scatterplot(data = daily_stats_CUT, x=\"log(P/L)\", y = \"log(spread)\", hue=\"SECCODE\", legend=False)\n",
        "sns.regplot(data=daily_stats_CUT, x=\"log(P/L)\", y=\"log(spread)\", scatter=False, ax=ax, )\n",
        "ax.legend(loc='lower right', )"
      ],
      "metadata": {
        "id": "EzIAM7Hog0gh"
      },
      "execution_count": null,
      "outputs": []
    },
    {
      "cell_type": "markdown",
      "source": [
        "## 9) [Extra*] For each blue-chip stock try to infer its tick size from the data. Check whether patterns in 5c) are consistent with existence of institutional restriction on minimal price change."
      ],
      "metadata": {
        "id": "RKpxS5JmjE2q"
      }
    },
    {
      "cell_type": "code",
      "source": [
        "all_blue_chips_trades = all_blue_chips_data.filter(ps.col(\"TRADENO\").is_not_null())\\\n",
        ".filter(ps.col(\"BUYSELL\")==\"S\")"
      ],
      "metadata": {
        "id": "JYKL9pKCUK2x"
      },
      "execution_count": null,
      "outputs": []
    },
    {
      "cell_type": "code",
      "source": [
        "all_blue_chips_trades = all_blue_chips_trades\\\n",
        ".with_columns(\n",
        "    ps.col(\"PRICE\").sort_by(\"TIME\").shift().over(\"SECCODE\", \"date\").alias(\"prev_price\"))\\\n",
        ".with_columns(\n",
        "    (ps.col(\"PRICE\") - ps.col(\"prev_price\")).abs().alias(\"price_diff_abs\"))\n",
        "\n",
        "price_diffs_stats = all_blue_chips_trades.group_by(\"SECCODE\", \"price_diff_abs\")\\\n",
        ".agg(ps.col(\"TRADENO\").count().alias(\"count\"))\\\n",
        ".filter(ps.col(\"price_diff_abs\")>0)"
      ],
      "metadata": {
        "id": "JaWb9NEqjoP6"
      },
      "execution_count": null,
      "outputs": []
    },
    {
      "cell_type": "code",
      "source": [
        "def gcd_array(arr):\n",
        "    result = arr[0]\n",
        "    for i in range(1, len(arr)):\n",
        "        result = np.gcd(result, arr[i])\n",
        "    return result\n",
        "TMP = None\n",
        "def gcd_udf(group_series):\n",
        "  т = 8\n",
        "  multiplier = 10**n\n",
        "  values_arr = (np.round((group_series[0]).to_list(), n) * multiplier).astype(np.int64)\n",
        "  result = gcd_array(values_arr)/multiplier\n",
        "  return result\n",
        "\n",
        "\n",
        "price_tick_sizes = price_diffs_stats\\\n",
        ".group_by(\"SECCODE\").agg(\n",
        "  ps.map_groups(\n",
        "        exprs=[\"price_diff_abs\"],\n",
        "        function=gcd_udf).alias(\"abc\"))"
      ],
      "metadata": {
        "id": "P7jkdb81sdRl"
      },
      "execution_count": null,
      "outputs": []
    },
    {
      "cell_type": "markdown",
      "source": [
        "#Analysis of a simple trading strategy"
      ],
      "metadata": {
        "id": "M6FY6X-p0xuQ"
      }
    },
    {
      "cell_type": "markdown",
      "source": [
        "## 10) Construct the following strategy for 15 blue-chip stocks.\n",
        "\n",
        "At the beginning of each hour, for each blue-chip stock check imbalance at the best bid\n",
        "and best offer and then trade into the direction of imbalance. If the number of shares is\n",
        "greater at the best ask (bid) comparing to the best bid (ask), then sell (buy) one unit of\n",
        "stock. Repeat this check for each of 15 stocks and construct a corresponding portfolio.\n",
        "Hold open position for one hour, then close it, redo all checks and rebalance portfolio\n",
        "for the next hour."
      ],
      "metadata": {
        "id": "vFSkcW0L02CO"
      }
    },
    {
      "cell_type": "markdown",
      "source": [
        "### a. Calculate realized return on this strategy under the assumption that you can trade at midquotes (paper portfolio). What is its Sharpe ratio?"
      ],
      "metadata": {
        "id": "IpCpDndw080V"
      }
    },
    {
      "cell_type": "code",
      "source": [],
      "metadata": {
        "id": "yCGkVeTy06sg"
      },
      "execution_count": null,
      "outputs": []
    }
  ]
}