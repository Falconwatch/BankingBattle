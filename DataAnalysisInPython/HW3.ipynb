{
  "nbformat": 4,
  "nbformat_minor": 0,
  "metadata": {
    "colab": {
      "provenance": [],
      "authorship_tag": "ABX9TyNAh2fAIYThUmBAlowURPGL",
      "include_colab_link": true
    },
    "kernelspec": {
      "name": "python3",
      "display_name": "Python 3"
    },
    "language_info": {
      "name": "python"
    }
  },
  "cells": [
    {
      "cell_type": "markdown",
      "metadata": {
        "id": "view-in-github",
        "colab_type": "text"
      },
      "source": [
        "<a href=\"https://colab.research.google.com/github/Falconwatch/BankingBattle/blob/main/DataAnalysisInPython/HW3.ipynb\" target=\"_parent\"><img src=\"https://colab.research.google.com/assets/colab-badge.svg\" alt=\"Open In Colab\"/></a>"
      ]
    },
    {
      "cell_type": "code",
      "execution_count": null,
      "metadata": {
        "id": "tCiJumRhS8YG"
      },
      "outputs": [],
      "source": []
    },
    {
      "cell_type": "markdown",
      "source": [
        "#1\n",
        "\n",
        "\n",
        "Ограничение времени\t20 секунд\n",
        "Ограничение памяти\t256Mb\n",
        "Ввод\tno input\n",
        "Вывод\ttests.log\n",
        "Вы —– рекрутер в крупном инвестбанке. Создайте функцию test, которая определяет прошел тот или иной кандидат собеседование. На собеседовании, потенциальный сотрудник отвечает на 8 вопросов: 2 очень легких, 2 легких, 2 средних и 2 сложных.\n",
        "Кандидат считается прошедшим собеседование, если выполняются следующие условия\n",
        "1. Кандидат должен ответить на все вопросы\n",
        "2. Максимальная продолжительность собеседования - 180 минут\n",
        "3. Максимальное время ответа на очень легкий вопрос - 10 минут\n",
        "4. Максимальное время ответа на легкий вопросй - 20 минут\n",
        "5. Максимальное время ответа на средний вопрос - 30 минут\n",
        "6. Максимальное время ответа на сложный вопрос - 40 минут\n",
        "\n",
        "Функция test принимает на вход один аргумент –– список, состоящий из времени потраченого на каждый вопрос в формате [очень легкий, очень легкий, легкий, легкий, средний, средний, сложный, сложный]. Функция возвращает одну из двух строк ’pass’ - если кандидат прошел собеседование и ’not pass’, если не прошел.\n",
        "\n",
        "Примечания\n",
        "\n",
        "В этой задаче вам не нужно считывать данные из stdin и выводить из stdout\n",
        "ВНИМАНИЕ! Убедитесь, что вы выставили компилятор (make) yandexdataschool в настройках ниже"
      ],
      "metadata": {
        "id": "VfbwjD_xTAJl"
      }
    },
    {
      "cell_type": "code",
      "source": [
        "def test(*args):\n",
        "  times=list(*args)\n",
        "  total_time = sum(times)\n",
        "\n",
        "  if len(times) != 8 or total_time>180 or max(times[:2])>10 or max(times[2:4])>20 or max(times[4:6])>30 or max(times[6:])>40:\n",
        "    return 'not pass'\n",
        "  return 'pass'\n",
        "\n",
        "\n",
        "test([1,2,3,4,5,6,7,800]), test([1,2,3,4,5,6,7,8])\n"
      ],
      "metadata": {
        "colab": {
          "base_uri": "https://localhost:8080/"
        },
        "id": "y3T21HS6S_Ce",
        "outputId": "3b994f7d-7fd0-4615-f667-ee21912b054c"
      },
      "execution_count": 13,
      "outputs": [
        {
          "output_type": "execute_result",
          "data": {
            "text/plain": [
              "('not pass', 'pass')"
            ]
          },
          "metadata": {},
          "execution_count": 13
        }
      ]
    },
    {
      "cell_type": "markdown",
      "source": [
        "# 2\n",
        "\n",
        "Ограничение времени\t20 секунд\n",
        "Ограничение памяти\t256Mb\n",
        "Ввод\tno input\n",
        "Вывод\ttests.log\n",
        "Реализуйте свой собственный класс комплексных чисел MyComplex. Класс должен уметь складывать, вычитать, умножать, делить комплексные числа, а также проверять их на равенство друг другу, умножать на -1 и находить модуль. Класс также должен поддерживать все эти операции с другими комплексными числами.\n",
        "Как понять, что класс должен работать верно: Код ниже должен выполниться без ошибок\n",
        "\n",
        "assert MyComplex(1, 1) == 1 + 1j\n",
        "\n",
        "assert MyComplex(10, 10) + 55 - 5j == MyComplex(65, 5)\n",
        "\n",
        "assert MyComplex(1, 5) / MyComplex(4, 3) == 0.76 + 0.68j\n",
        "\n",
        "assert MyComplex(1, 5) * MyComplex(4, 3) == -11 + 23j\n",
        "\n",
        "assert abs(MyComplex(3, 4)) == MyComplex(5, 0)\n",
        "\n",
        "assert MyComplex(3, 4) * -1 == MyComplex(-3, -4)\n",
        "\n",
        "Примечания\n",
        "\n",
        "В этой задаче вам не нужно считывать данные из stdin и выводить из stdout\n",
        "ВНИМАНИЕ! Убедитесь, что вы выставили компилятор (make) yandexdataschool в настройках ниже"
      ],
      "metadata": {
        "id": "r9HWDf7FTQx9"
      }
    },
    {
      "cell_type": "markdown",
      "source": [
        "https://www.geeksforgeeks.org/operator-overloading-in-python/"
      ],
      "metadata": {
        "id": "aBqUCcTlU2ZN"
      }
    },
    {
      "cell_type": "code",
      "source": [
        "class MyComplex():\n",
        "  def __init__(self, real, imag):\n",
        "    self.real = real\n",
        "    self.imag = imag\n",
        "\n",
        "  def __eq__(self, o):\n",
        "    return self.real == o.real and self.imag==o.imag\n",
        "\n",
        "  def __add__ (self, o):\n",
        "    return MyComplex(self.real + o.real, self.imag + o.imag)\n",
        "\n",
        "  def __sub__(self, o):\n",
        "    return MyComplex(self.real - o.real, self.imag - o.imag)\n",
        "\n",
        "\n",
        "  def __truediv__(self, o):\n",
        "    znam = (o.real**2 + o.imag**2)\n",
        "    if znam == 0:\n",
        "      raise ZeroDivisionError()\n",
        "    new_real = (self.real*o.real + self.imag*o.imag)/znam\n",
        "    new_imag = (self.imag*o.real - self.real*o.imag)/znam\n",
        "    return MyComplex(new_real, new_imag)\n",
        "\n",
        "  def __mul__(self, o):\n",
        "    new_real = self.real * o.real - self.imag * o.imag\n",
        "    new_imag = self.real * o.imag + self.imag * o.real\n",
        "    return MyComplex(new_real, new_imag)\n",
        "\n",
        "  def __abs__(self):\n",
        "    return (self.real**2 + self.imag**2)**0.5\n",
        "\n",
        "  def __str__(self):\n",
        "    return \"{0} {1}i\".format(self.real, self.imag)\n",
        "\n",
        "\n",
        "\n",
        "assert MyComplex(1, 1) == 1 + 1j\n",
        "\n",
        "assert MyComplex(10, 10) + 55 - 5j == MyComplex(65, 5)\n",
        "assert MyComplex(10, 10) + MyComplex(55, -5) == MyComplex(65, 5)\n",
        "\n",
        "assert MyComplex(55, 55) - (10 - 5j) == MyComplex(45, 60)\n",
        "assert MyComplex(55, 55) - MyComplex(10, -5) == MyComplex(45, 60)\n",
        "\n",
        "assert MyComplex(1, 5) / MyComplex(4, 3) == 0.76 + 0.68j\n",
        "assert MyComplex(1, 5) / (4 + 3j) == 0.76 + 0.68j\n",
        "\n",
        "assert MyComplex(1, 5) * MyComplex(4, 3) == -11 + 23j\n",
        "assert(MyComplex(1, 5) * (4+3j) == -11 + 23j)\n",
        "\n",
        "assert abs(MyComplex(3, 4)) == MyComplex(5, 0)\n",
        "assert abs(MyComplex(3, 4)) == 5\n",
        "assert abs(MyComplex(3, 4)) == (5+0j)\n",
        "\n",
        "assert MyComplex(3, 4) * -1 == MyComplex(-3, -4)\n",
        "assert MyComplex(3, 4) * MyComplex(-1,0) == MyComplex(-3, -4)"
      ],
      "metadata": {
        "id": "31q0RiOnTPIB"
      },
      "execution_count": 14,
      "outputs": []
    },
    {
      "cell_type": "code",
      "source": [
        "class MyComplex(complex):\n",
        "  def __init__(self, real, imag):\n",
        "    self.data = complex(real, imag)\n",
        "  def __str__(self):\n",
        "    return \"{0} {1}i\".format(self.real, self.imag)\n",
        "\n",
        "assert MyComplex(1, 1) == 1 + 1j\n",
        "\n",
        "assert MyComplex(10, 10) + 55 - 5j == MyComplex(65, 5)\n",
        "assert MyComplex(10, 10) + MyComplex(55, -5) == MyComplex(65, 5)\n",
        "\n",
        "assert MyComplex(55, 55) - (10 - 5j) == MyComplex(45, 60)\n",
        "assert MyComplex(55, 55) - MyComplex(10, -5) == MyComplex(45, 60)\n",
        "\n",
        "assert MyComplex(1, 5) / MyComplex(4, 3) == 0.76 + 0.68j\n",
        "assert MyComplex(1, 5) / (4 + 3j) == 0.76 + 0.68j\n",
        "\n",
        "assert MyComplex(1, 5) * MyComplex(4, 3) == -11 + 23j\n",
        "assert(MyComplex(1, 5) * (4+3j) == -11 + 23j)\n",
        "\n",
        "assert abs(MyComplex(3, 4)) == MyComplex(5, 0)\n",
        "assert abs(MyComplex(3, 4)) == 5\n",
        "assert abs(MyComplex(3, 4)) == (5+0j)\n",
        "\n",
        "assert MyComplex(3, 4) * -1 == MyComplex(-3, -4)\n",
        "assert MyComplex(3, 4) * MyComplex(-1,0) == MyComplex(-3, -4)"
      ],
      "metadata": {
        "id": "rj8bkP8_TPLA"
      },
      "execution_count": 20,
      "outputs": []
    },
    {
      "cell_type": "markdown",
      "source": [
        "# 3\n",
        "\n",
        "Ограничение времени\t20 секунд\n",
        "Ограничение памяти\t256Mb\n",
        "Ввод\tno input\n",
        "Вывод\ttests.log\n",
        "Напишите функцию, OneToPalindrome, которая получает на вход строку и проверяет, можно ли из этой строки удалить ровно один символ так, чтобы она стала палиндромом. Удалять ровно 1 символ обязательно. Функция должна возвращать либо True либо False. Гарантируется, что строка всегда непустая. Пустая строка является палиндромом.\n",
        "\n",
        "Пример 1:\n",
        "\n",
        "Входные данные: \"abcdef\"\n",
        "\n",
        "Ответ: False\n",
        "\n",
        "Пояснение: палиндрома не будет, какую бы букву не удалять\n",
        "\n",
        "Пример 2:\n",
        "\n",
        "Входные данные: \"abccrba\"\n",
        "\n",
        "Ответ: True\n",
        "\n",
        "Пояснение: необходимо удалить букву r, чтобы получился палиндром \"abccba\"\n",
        "\n",
        "Примечания\n",
        "\n",
        "В этой задаче вам не нужно считывать данные из stdin и выводить из stdout\n",
        "ВНИМАНИЕ! Убедитесь, что вы выставили компилятор (make) yandexdataschool в настройках ниже"
      ],
      "metadata": {
        "id": "ejqEgAq1Tb91"
      }
    },
    {
      "cell_type": "code",
      "source": [
        "def OneToPalindrome(str_to_check):\n",
        "  def is_palindrome(substr):\n",
        "    return substr==substr[::-1]\n",
        "\n",
        "  left_index=0\n",
        "  right_index = len(str_to_check)\n",
        "\n",
        "  for i in range(len(str_to_check)//2):\n",
        "    if str_to_check[left_index] != str_to_check[right_index-1]:\n",
        "      return is_palindrome(str_to_check[left_index+1:right_index]) or is_palindrome(str_to_check[left_index:right_index-1])\n",
        "    left_index+=1\n",
        "    right_index-=1\n",
        "  return True\n",
        "\n",
        "assert(OneToPalindrome(\"abcdef\")==False)\n",
        "assert(OneToPalindrome(\"abccrba\")==True)\n",
        "assert(OneToPalindrome(\"aaaaa\")==True)\n",
        "assert(OneToPalindrome(\"a\")==True)\n",
        "assert(OneToPalindrome(\"abcba\")==True)\n",
        "assert(OneToPalindrome(\"aaaac\")==True)\n",
        "assert(OneToPalindrome(\"caaaac\")==True)\n",
        "assert(OneToPalindrome(\"caaac\")==True)"
      ],
      "metadata": {
        "id": "RJ3dECn1BN-G"
      },
      "execution_count": 99,
      "outputs": []
    },
    {
      "cell_type": "markdown",
      "source": [
        "# 4\n",
        "\n",
        "\n",
        "Ограничение времени\t20 секунд\n",
        "\n",
        "Ограничение памяти\t256.0 Мб\n",
        "\n",
        "Ввод\tinput.txt\n",
        "\n",
        "Вывод\tстандартный вывод или output.txt\n",
        "\n",
        "В школе у Коли проходит турнир по баскетболу, а самому Коле нужно набрать команду: он ведь капитан. Каждый ученик набрал определнное число баллов за четверть, поэтому Коля знает, сколько стоит баллов каждый ученик. Тренер случайным образом перемешивает учащихся, ставит их в линюю и разрешает набирать к себе в команду учеников либо слева - либо справа из линии. Также, учитывая силу капитана, тренер требует, чтобы команда (за исключением самого капитана) имела суммарно определенное число очков. Помогите Коле собрать наименьшую команду с заданным числом очков, либо скажите, что ему не удастся этого сделать.\n",
        "\n",
        "На вход подается два числа n и Q - число учащихся в линии и необходимая сила команды. Далее n строк, в каждой из которых написан балл учащегося. Необходимо вывести мнимальное число учениов, которые соберут необходимую команду по заданным правилам, либо -1, если это невозможно.\n",
        "\n",
        "Входные данные записаны в файле input.txt. Результат необходимо написать на поток вывода stdout\n",
        "\n",
        "Формат ввода\n",
        "\n",
        "5 5\n",
        "\n",
        "1\n",
        "\n",
        "1\n",
        "\n",
        "4\n",
        "\n",
        "2\n",
        "\n",
        "3\n",
        "\n",
        "Формат вывода\n",
        "\n",
        "2\n",
        "\n",
        "Примечания\n",
        "\n",
        "Команду силой 5 составят 2 последних ученика в линии\n",
        "\n",
        "ВНИМАНИЕ! Убедитесь, что вы выставили компилятор Python 3.12.3 в настройках ниже"
      ],
      "metadata": {
        "id": "GlJwNmG8Th8W"
      }
    },
    {
      "cell_type": "code",
      "source": [],
      "metadata": {
        "colab": {
          "base_uri": "https://localhost:8080/"
        },
        "id": "eOyT6kmMTpYq",
        "outputId": "a09d5f81-1604-4366-bfdd-8bce0ebf7cee"
      },
      "execution_count": 140,
      "outputs": [
        {
          "name": "stdout",
          "output_type": "stream",
          "text": [
            "5 5\n",
            "1\n",
            "1\n",
            "4\n",
            "2\n",
            "3\n"
          ]
        },
        {
          "output_type": "execute_result",
          "data": {
            "text/plain": [
              "2"
            ]
          },
          "metadata": {},
          "execution_count": 140
        }
      ]
    },
    {
      "cell_type": "code",
      "source": [],
      "metadata": {
        "colab": {
          "base_uri": "https://localhost:8080/"
        },
        "id": "u0SDD1AxKJX-",
        "outputId": "8a95aad0-cb81-4f66-b3b5-c8cf958fc3f4"
      },
      "execution_count": 126,
      "outputs": [
        {
          "name": "stdout",
          "output_type": "stream",
          "text": [
            "1\n",
            "1\n",
            "4\n",
            "2\n",
            "3\n"
          ]
        }
      ]
    },
    {
      "cell_type": "code",
      "source": [
        "def find_team(men_list, power):\n",
        "  start_index=0\n",
        "  smallest_group = None\n",
        "  for i in range(len(men)):\n",
        "    for j in range(i, len(men)):\n",
        "      group_power = sum(men[i:j])\n",
        "      if group_power == q:\n",
        "\n",
        "        if smallest_group:\n",
        "          if j-i<smallest_group:\n",
        "            smallest_group = j-i\n",
        "        else:\n",
        "          smallest_group = j-i\n",
        "\n",
        "  return smallest_group\n",
        "\n",
        "assert(find_team([1,1,4,3,2], 5)==2)"
      ],
      "metadata": {
        "id": "YgXC8GpHPSd6"
      },
      "execution_count": 139,
      "outputs": []
    },
    {
      "cell_type": "code",
      "source": [
        "find_team([1,1,4,3,2], 5)"
      ],
      "metadata": {
        "id": "x7RMIJPXKbXh"
      },
      "execution_count": 138,
      "outputs": []
    },
    {
      "cell_type": "code",
      "source": [
        "\n",
        "\n",
        "(n_str, Q_str) = input().split()\n",
        "n=int(n_str)\n",
        "q=int(Q_str)\n",
        "\n",
        "men = list()\n",
        "for i in range(n):\n",
        "  x = int(input())\n",
        "  men.append(x)\n",
        "\n",
        "find_team(men, q)"
      ],
      "metadata": {
        "id": "FCcgFrMbNQvR"
      },
      "execution_count": null,
      "outputs": []
    },
    {
      "cell_type": "code",
      "source": [
        "def find_team(men_list, power):\n",
        "  start_index=0\n",
        "  smallest_group = None\n",
        "  for i in range(len(men)):\n",
        "    for j in range(i, len(men)):\n",
        "      group_power = sum(men[i:j])\n",
        "      if group_power == q:\n",
        "\n",
        "        if smallest_group:\n",
        "          if j-i<smallest_group:\n",
        "            smallest_group = j-i\n",
        "        else:\n",
        "          smallest_group = j-i\n",
        "  return smallest_group\n",
        "\n",
        "with open(\"input.txt\", \"r\") as f:\n",
        "  (n_str, Q_str) = f.readline().split()\n",
        "  n=int(n_str)\n",
        "  q=int(Q_str)\n",
        "\n",
        "  men = list()\n",
        "  for i in range(n):\n",
        "    x = int(f.readline())\n",
        "    men.append(x)\n",
        "\n",
        "find_team(men, q)"
      ],
      "metadata": {
        "colab": {
          "base_uri": "https://localhost:8080/"
        },
        "id": "RgPez_CoRaff",
        "outputId": "87be5fb2-e28d-4985-ad62-317e673884c8"
      },
      "execution_count": 145,
      "outputs": [
        {
          "output_type": "execute_result",
          "data": {
            "text/plain": [
              "2"
            ]
          },
          "metadata": {},
          "execution_count": 145
        }
      ]
    },
    {
      "cell_type": "code",
      "source": [
        "sum = 0\n",
        "lindex, rindex = 0,0\n",
        "result=[-1,-1]\n",
        "\n",
        "while True:\n",
        "  print(lindex, rindex, sum)\n",
        "  if rindex == len(men)-1:\n",
        "    break\n",
        "  if sum>q:\n",
        "    lindex+=1\n",
        "    sum-= men[lindex]\n",
        "  if sum<q:\n",
        "    rindex+=1\n",
        "    sum+= men[rindex]\n",
        "  if sum == q:\n",
        "    if result[1] - result[0]<rindex-lindex+1:\n",
        "      result = [lindex, rindex]\n",
        "      break"
      ],
      "metadata": {
        "colab": {
          "base_uri": "https://localhost:8080/"
        },
        "id": "NMTxKPy8RaiI",
        "outputId": "ccddb396-72bd-4f12-f5fb-c1a65886c8a2"
      },
      "execution_count": 156,
      "outputs": [
        {
          "output_type": "stream",
          "name": "stdout",
          "text": [
            "0 0 0\n",
            "0 1 1\n"
          ]
        }
      ]
    },
    {
      "cell_type": "code",
      "source": [
        "result"
      ],
      "metadata": {
        "colab": {
          "base_uri": "https://localhost:8080/"
        },
        "id": "o9HC0APkRbBx",
        "outputId": "8e18dd18-1485-4e07-aac6-58bc1c98de5c"
      },
      "execution_count": 157,
      "outputs": [
        {
          "output_type": "execute_result",
          "data": {
            "text/plain": [
              "[0, 2]"
            ]
          },
          "metadata": {},
          "execution_count": 157
        }
      ]
    },
    {
      "cell_type": "code",
      "source": [],
      "metadata": {
        "id": "Q0wX2KX4X6LG"
      },
      "execution_count": null,
      "outputs": []
    }
  ]
}